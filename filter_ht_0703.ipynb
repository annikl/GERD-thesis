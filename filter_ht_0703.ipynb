{
 "cells": [
  {
   "cell_type": "code",
   "execution_count": 1,
   "id": "9ec8daaa-00b5-4926-97d4-dc64a765eb60",
   "metadata": {
    "tags": []
   },
   "outputs": [],
   "source": [
    "import pandas as pd\n",
    "from datetime import datetime\n",
    "from matplotlib import pyplot as plt\n",
    "\n",
    "\n",
    "# Filepaths\n",
    "fp11 = \"data/TweetSearch_2011.parquet\"\n",
    "fp12 = \"data/TweetSearch_2012.parquet\"\n",
    "fp13 = \"data/TweetSearch_2013.parquet\"\n",
    "fp14 = \"data/TweetSearch_2014.parquet\"\n",
    "fp15 = \"data/TweetSearch_2015.parquet\"\n",
    "fp16 = \"data/TweetSearch_2016.parquet\"\n",
    "fp17 = \"data/TweetSearch_2017.parquet\"\n",
    "fp18 = \"data/TweetSearch_2018.parquet\"\n",
    "fp19 = \"data/TweetSearch_2019.parquet\"\n",
    "fp20 = \"data/TweetSearch_2020.parquet\"\n",
    "fp21 = \"data/TweetSearch_2021.parquet\"\n",
    "fp22 = \"data/TweetSearch_2022.parquet\"\n",
    "\n",
    "# Read the files\n",
    "hashtags2011 = pd.read_parquet(fp11)\n",
    "hashtags2012 = pd.read_parquet(fp12)\n",
    "hashtags2013 = pd.read_parquet(fp13)\n",
    "hashtags2014 = pd.read_parquet(fp14)\n",
    "hashtags2015 = pd.read_parquet(fp15)\n",
    "hashtags2016 = pd.read_parquet(fp16)\n",
    "hashtags2017 = pd.read_parquet(fp17)\n",
    "hashtags2018 = pd.read_parquet(fp18)\n",
    "hashtags2019 = pd.read_parquet(fp19)\n",
    "hashtags2020 = pd.read_parquet(fp20)\n",
    "hashtags2021 = pd.read_parquet(fp21)\n",
    "hashtags2022 = pd.read_parquet(fp22)"
   ]
  },
  {
   "cell_type": "code",
   "execution_count": 2,
   "id": "1b9e7eb0-2d48-4cdc-8d34-61b5f2140049",
   "metadata": {
    "tags": []
   },
   "outputs": [],
   "source": [
    "# joining year-based dataframes into two different dataframes (because of the explosion of number of tweets after 10/2020)\n",
    "\n",
    "ht20to22 = pd.concat([hashtags2020, hashtags2021, hashtags2022])\n",
    "ht11to19 = pd.concat([hashtags2011, hashtags2012, hashtags2013, hashtags2014, hashtags2015, hashtags2016, hashtags2017, hashtags2018, hashtags2019])\n",
    "\n",
    "# only English language tweets are used because identified keywords are in English\n",
    "\n",
    "ht20to22 = ht20to22.loc[ht20to22[\"lang\"] == \"en\"]\n",
    "#ht20to22\n",
    "\n",
    "ht11to19 = ht11to19.loc[ht11to19[\"lang\"] == \"en\"]\n",
    "#ht11to19\n",
    "\n",
    "#ht20to22.sample(n=50)[\"text\"].to_list()\n",
    "#ht11to19.sample(n=50)[\"text\"].to_list()"
   ]
  },
  {
   "cell_type": "markdown",
   "id": "8a790f38-2d93-4459-91c2-936d5cc00bd5",
   "metadata": {
    "jp-MarkdownHeadingCollapsed": true,
    "tags": []
   },
   "source": [
    "## Function"
   ]
  },
  {
   "cell_type": "code",
   "execution_count": 3,
   "id": "aa6d94f7-8ab9-40ee-afb8-b6fca3b16c29",
   "metadata": {
    "tags": []
   },
   "outputs": [],
   "source": [
    "# 'df' needs to be a dataframe of tweets that has a column \"created_at\" with timestamp starting wiht \"yyy-mm-dd\"\n",
    "# returns a dataframe that contains all original columns with an added column called \"count\" which tells how many tweets were posted that day\n",
    "# returned dataframe also includes column \"day\" that has string in format \"yyyy-mm-dd\"\n",
    "\n",
    "def get_daily_tweet_counts(df):\n",
    "    \n",
    "    import pandas as pd\n",
    "    \n",
    "    # reset index to be able to use below for clause\n",
    "    \n",
    "    df = df.reset_index(drop=True)\n",
    "    \n",
    "    # makes a column \"day\" with string \"yyy-mm-dd\"\n",
    "    \n",
    "    days = []\n",
    "\n",
    "    for i in range(len(df)):\n",
    "        days.append(df[\"created_at\"][i][:10])\n",
    "\n",
    "    df[\"day\"] = days\n",
    "    \n",
    "    # get \"count\" (number of tweets) for each day in the dataframe\n",
    "    # change indexing so that there are two columns, \"day\" and \"count\"\n",
    "    \n",
    "    days_counts = pd.DataFrame(df[\"day\"].value_counts())\n",
    "    days_counts = days_counts.reset_index()\n",
    "    days_counts = days_counts.rename(columns={\"index\" : \"day\", \"day\" : \"count\"}) \n",
    "    \n",
    "    # merge days_counts with df to add corresponding count of daily tweets to each tweet\n",
    "    \n",
    "    ret = pd.merge(df, days_counts, how=\"left\", on=\"day\")\n",
    "    \n",
    "    return ret"
   ]
  },
  {
   "cell_type": "markdown",
   "id": "f2a6dbaa-4024-4498-913e-9234c861491d",
   "metadata": {
    "tags": []
   },
   "source": [
    "## English"
   ]
  },
  {
   "cell_type": "markdown",
   "id": "278f7282-cadc-4d3f-b0c1-3b0922d7f055",
   "metadata": {
    "tags": []
   },
   "source": [
    "#### Filter 1: remove tweets only including general/Tigray conflict related keywords and no other gerd-specific keywords"
   ]
  },
  {
   "cell_type": "code",
   "execution_count": 4,
   "id": "e84c0189-84ed-4abb-91b9-2c92bd79ff36",
   "metadata": {
    "tags": []
   },
   "outputs": [],
   "source": [
    "# filter round 1: remove tweets including one or more of the words in 'list1_2' and none of the words in list 'list1'\n",
    "\n",
    "list1 = [\"gerd\", \"hydropower\", \"renaissance dam\"]\n",
    "list1_2 = [\"tplf\", \"tigray\", \"unityforethiopia\", \"ethiopiaprevails\", \"handsoffethiopia\"]\n",
    "\n",
    "# choosing tweets that mention one of the irrelevant keywords\n",
    "\n",
    "filter_gerd1 = ht20to22.loc[ht20to22[\"text\"].str.lower().str.contains(\"|\".join(list1_2), regex=True)]\n",
    "\n",
    "# out of those (above), choose the tweets that (also) mention one of the relevant \n",
    "\n",
    "temp_filter1 = filter_gerd1.loc[filter_gerd1[\"text\"].str.lower().str.contains(\"|\".join(list1), regex=True)]\n",
    "\n",
    "filter_gerd1 = pd.concat([temp_filter1, filter_gerd1]).drop_duplicates(keep=False)\n",
    "\n",
    "# concat and drop_duplicated to perform 'ht20to22 - filter_gerd1' (remove values in filter_gerd1 from ht20to22)\n",
    "\n",
    "filtered1 = pd.concat([ht20to22, filter_gerd1]).drop_duplicates(keep=False)"
   ]
  },
  {
   "cell_type": "code",
   "execution_count": 5,
   "id": "11b855cf-a02f-4190-8f9f-ebb0dd862e4c",
   "metadata": {
    "collapsed": true,
    "jupyter": {
     "outputs_hidden": true
    },
    "tags": []
   },
   "outputs": [
    {
     "data": {
      "text/plain": [
       "['Birtukan Mideksa helped rewrite the Ethiopian Constitution to nullify Tigray’s September 2020 regional election which was the bases for the #Tigray war of ethnic cleansing. She is one of the #TigrayGenocideAccomplices @NEBEthiopia https://t.co/otdiqvZpAv',\n",
       " 'The 1983 famine took the lives of more than a million #Tigray|ans due to information &amp; access blockage. The @PMEthiopia is implementing both methods to repeat history while the whole world is watching in silence. #WorldHumanitarianDay2021 #AllowAccessToTigray @NorwayMFA @NorwayUN',\n",
       " 'SR97 is no less than about a regime change in Ethiopia. The people of Ethiopia aspire democracy, peace and stability. Let democracy work in Ethiopia! #ForwardElectionEthiopia #UnityForEthiopia @EU_Commission @StateDept @SenateForeign @EU_Commission @AUC_MoussaFaki',\n",
       " '#UNSC \\nwe urge you to drive:\\n-Immediate and Complete withdrawal of Eritrean forces from #Tigray\\n-Immediate and unfettered humanitarian access to Tigray.\\n#UNSCActNow\\n#EritreaOutOfTigray\\n#TigrayGenocide',\n",
       " '@abenaopp Thank you @abenaopp for raising your concern regarding the civil war in #Ethiopia #Tigray. Unfortunately this is not enough for the hundreds of thousands #Tigrayans dying of hunger. We need action #AirDropFoodToTigray \\n#SanctionEthiopia \\nhttps://t.co/OhIGmlNYES',\n",
       " '@GissaAbba @CNN Donald Trump was absolutely right to call \\n@CNN\\n \"Fake News.\"\\n#HandsOffEthiopia \\n#ReformUNSC',\n",
       " '\"We Will Earse you from this Land.\"#CallItAGenocide #SupportS3199\\n @hrw &amp; @amnesty find crimes against humanity and ethnic cleansing committed in Western #Tigray. @StateDept @POTUS @USAmbUN @SecBlinken @EU_Commission @UNGeneva  https://t.co/fljYgWfT6w https://t.co/xMZkQfM6wP https://t.co/WGZUhpv90y',\n",
       " '@irishmissionun @dfatirl @simoncoveney @Irish_Aid @IrlEmbEthiopia @IrlEmbKenya @UNOCHA @HumanRightsIRL When the history of the unspeakable sufferings of millions of #Tigrayans in &amp; outside  #Tigray is written, the chapter on #Ireland will be written in bright colors for you stood tall and bold in upholding #humanity &amp; #justice amid a reluctant world. We will be grateful forever!',\n",
       " '@WashTimes The impeachment against Secretary of @SecBlinken must include mishandling the US Foreign policy where Blinken pushed away a great ally of the US against terrorism. #Ethiopia is a trusted ally! @AFP @Reuters @FoxNews @citizentvkenya #UnityForEthiopia',\n",
       " 'Public opinion significantly shifted regarding fate of #tplf. A yr ago, there was a window for peace negotiation to save it. Now #Ethiopians demand total disarm &amp; disband of tplf. Voices democratically elected govt. of #Ethiopia can’t ignore \\n#NoMore \\n#DisarmTPLF #Tigray',\n",
       " 'Freweni Mebrhatu, @CNNHeroes winner of 2019 worked tirelessly to improve access of sanitary pad for young girls. Now, all her work has been reversed as young girls are experiencing #WeaponizedRape in #Tigray .\\n@SecBlinken @UN @hrw @EU_Commission #EritreanTroopsOutOfTigray',\n",
       " \"On this #GoodFriday, #Tigray|ans are forced to celebrate holidays in what is left of their churches after being shelled by @AbiyAhmedAli's and #Eritrean soldiers. #TigrayGenocide @SecBlinken @POTUS @BishopBurns @rcstortford @UN @lacatholics @VaticanNews https://t.co/1LgwgewtuG\",\n",
       " '@StateDept must take immediate ACTION to stop the use of prohibited chemical weapons on the people of #Tigray by #Ethiopia &amp; #Eritrea. Silence is unacceptable! #ChemicalAttackOnTigray #TigrayGenocide @SecBlinken @EU_Commission @HouseForeign @SenateForeign\\nhttps://t.co/LLGdTilJSJ',\n",
       " 'Reports from #Tigray are getting sickening. #Amhara vigilante militias and #Eritreans are gang raping #Tigrayan women. The war on #Tigray is driven by the will to dehumanize and subdue #Tigrayans. #Ethiopia is hell for Tigrayans now. https://t.co/AUKPWOAfEa',\n",
       " 'Spl. Envoy Feltman thinks #TPLFTerroristGroup are angles! It is not that he does not know! He wants to keep the terrorists in operation! There is injustice done in the Afar and Amhara but he does not give a damn!Ethio_Americans say it is not fair at all! #NoMore #UnityForEthiopia',\n",
       " 'Thousands of #Tigray|ans are held in life-threatening conditions today. #WesternTigray. #AmharaOutOfTigray \\n\\n.@SecBlinken  @mbachelet @vestager @USAmbUN  https://t.co/ZpcJplAz0T',\n",
       " 'The Ethiopian government is currently working to exterminate Tigrayans in &amp; outside #Tigray. Tigrayan civilians are arbitrarily arrested, bank accounts are closed, business are shut down. These must STOP. #TigrayMassArrest #TigrayGenocide @SecBlinken @USAmbUN @LaetitiaBader @hrw',\n",
       " 'The endless #TPLFs inhuman acts, conspiracy and embezzlement from its inception should be revealed to the world. Peace for the world.\\n#FeelTheEthiopianPain\\n#MiaKadra\\n#UnityForEthiopia\\n@UNSC\\n@Ethiopia_UN',\n",
       " '#Tigray has slaughtered for 556+ days by cruel 🇪🇹 &amp;🇪🇷 govts. Why is the world silent #TigrayGenocide &amp; #TigrayGenocide\\n#EritreanTroopsOutOfTigray \\n#SupportHR6600 \\nENOUGH #EndTigraySiege \\n@StateDept @SecBlinken @USAmbUN @PowerUSAID @WFPChief @UN @UKParliament @SenatorMenendez https://t.co/YwofvbGcK6',\n",
       " 'How can @EthioHRC be trusted to do a joined investigation with @UN when it has consistently dismissed gross violation of human rights in #Tigray for more than 4 months. DEMAND #UNInvestigateTigray independently. #TigrayGenocide @SenatorRomney @SenatorRounds @EU_Commission @POTUS']"
      ]
     },
     "execution_count": 5,
     "metadata": {},
     "output_type": "execute_result"
    }
   ],
   "source": [
    "filter_gerd1.sample(n=20)[\"text\"].to_list()"
   ]
  },
  {
   "cell_type": "code",
   "execution_count": 6,
   "id": "3f29cdff-78b8-45bb-844f-002f1d4323d5",
   "metadata": {
    "collapsed": true,
    "jupyter": {
     "outputs_hidden": true
    },
    "tags": []
   },
   "outputs": [
    {
     "data": {
      "text/plain": [
       "['#Nile River Valley and the #Indus River Basin are the cradle and seat of civilization. People have lived and farmed in their fertile floodplains since inception of civilisation. \\n\\nLooking at the night map what is the major difference between Nile and Indus ? Will answer later! https://t.co/yKJo1X4eqg',\n",
       " '#Nile River Valley and the Indus River Basin are the cradle and seat of civilization. People have lived and farmed in their fertile floodplains for millennia. \\n\\nLooking at the night map what  is the major difference between Nile and Indus ? Like to know ! Will answer later',\n",
       " 'Happy New Year! Taking swing lessons for the first time from Dad at the driving range on New Year’s Day...\\n\\n#drcarsonliu #bariatricsurgery #heartburnrelief #herniasurgery #gerd #hiatalhernia #hiatalherniarepair… https://t.co/T1zU0Epm17',\n",
       " \"Many people have misconceptions about the relationship between #hiatalhernias and #GERD.  Let's discuss how these two painful conditions are connected: https://t.co/TVZmWecfWc https://t.co/q6mqutB3AS\",\n",
       " 'Happy New Year, Addis Hiking Family! \\nWe had a lot of group hikes in 2019. All trips were packed with many memories.\\nThank you so much for the love, challenges and  inspiration.\\nWe will even have more in 2020.\\n#adventure #Debrelibanos #Ethiopia #landoforigins #addishiking https://t.co/o733rIkpdK',\n",
       " 'My daily life #ChronicIllness #Migraine #Insomnia #Gerd #Esophagitis #bipolardisorder #depression #RLS #Fatigue #Ocd #BrainFog #Illness #Antipsychotic #Ssri #Amitrypline #PPI #Drugs https://t.co/kg0EVKguCd',\n",
       " '#LandOfOrigins #Ethiopia \\nplease follow #TravelToEthiopia on Instagram \\nhttps://t.co/6CWcFIg6Hu https://t.co/LHQ22qpMX1',\n",
       " \"The colorful Timkat festivity(Ethiopian Epiphany) was inscribed as one of the World's Intangible heritage by UNESCO. From the soaring peaks of the Simien Mountains to the sinking depths of the Danakil depression,the country is filled with awe-inspiring destinations\\n#LandOfOrigins https://t.co/grbzqvv7kT\",\n",
       " '#LandOfOrigins Love it!! https://t.co/zDcz25pfZg',\n",
       " 'Shielded by deserts at each side, powered by the mighty #Nile, and in command of the #Suez crossing, this is the #Geopolitics of #Egypt. https://t.co/onk0vdfWRg',\n",
       " 'The tale of fire \\n#nile #sunset #sun #winter #clouds #silhouette #shore #red #orange #yellow #black #fire #sky #water #river #shotoniphone #mobilephotography #cruise @ Al Manyal, Al Jizah, Egypt https://t.co/Y62iLZnBhF',\n",
       " 'The sun sets on the Nile on the first day of 2020.\\n#Nile #NileRiver #Cairo #Egypt #sunsetphotography\\n#sunsetoverNile #beautifulearth https://t.co/0ON4ouTBPW',\n",
       " 'How to spend the last night of 2019 ❣️\\nby HONOR V10\\n#mobilephotography #honor #egypt #nile #happynewyear #photography @ Cairo, Egypt https://t.co/uPI7r30p6L',\n",
       " '#luxor-aswan #nile-cruise #egyptology #thisisegypt #egyptology #luxor_temples #luxoregypt #luxor_travels.Luxor #egypt #egypteveryday #egyptshots .\\n#luxortravels🐪🐪🐪 @ Luxor Temple https://t.co/351oiegNIT',\n",
       " '@drraviele 👆🏻 Another great example of the #gastocardiac interaction, which may contribute to #arrhythmia mechanisms and the #RoemheldSyndrome! There are a lot of gastrointestinal factors which may impact #AFib triggers and substrates: #diet, #microbiome, #GERD, #HiatalHernia, ...',\n",
       " 'The #Memnon at #High #Nile, wood engraving of an #archeological sight from 1895\\n https://t.co/al3Lnxswbi',\n",
       " \"Something people don't tell you about #chronicillness and #ChronicPain is how impossible it makes it to go out #Today my body is completely shutting down on me the pain #GERD #Lupus and HCP trifecta is upon me and raising hell\",\n",
       " '#Ethiopia:  The current state of the construction of #GERD in pictures\\nSource: @ebczena https://t.co/DFN3lbeMXw',\n",
       " 'https://t.co/UILERiPhOt presents: The Lost Continent of Atlantis - The Red Sea\\nSee https://t.co/GlI7NKaqi7 for more\\n\\n#Barracudas #Bombs #Colonies #Corals #Egypt #Eritrea #Fiat #Indo #Manta #Nile #Pyramids #Reefs #Sanganeb #Sharks #Sudan #Turtles #UmbriaWreck #Wreck #WWII',\n",
       " 'Landing at number 16 on my top 25 albums of 2019 at Rock Fantasy  . Nile with Vile Nilotic Rites nile_official #nile #deathmetal #nuclearblastrecords @ Rock Fantasy https://t.co/s0zNZDyy8S']"
      ]
     },
     "execution_count": 6,
     "metadata": {},
     "output_type": "execute_result"
    }
   ],
   "source": [
    "filtered1[\"text\"].head(20).to_list()"
   ]
  },
  {
   "cell_type": "code",
   "execution_count": 8,
   "id": "74432b70-8670-40fe-9e64-71ff188be632",
   "metadata": {
    "tags": []
   },
   "outputs": [
    {
     "name": "stdout",
     "output_type": "stream",
     "text": [
      "tweets left, original amount, tweets left (%)\n",
      "206528 5002288 0.041286707202784004\n"
     ]
    }
   ],
   "source": [
    "print(\"tweets left, original amount, tweets left (%)\")\n",
    "print(len(filtered1), len(ht20to22), len(filtered1)/len(ht20to22))"
   ]
  },
  {
   "cell_type": "markdown",
   "id": "100b0691-58be-4d0b-977e-ec11e50a1da0",
   "metadata": {
    "tags": []
   },
   "source": [
    "#### Filter 2A: using 'filtered1', remove tweets containing at least one medical keyword (2020-2022)"
   ]
  },
  {
   "cell_type": "code",
   "execution_count": 9,
   "id": "0d29a88e-218e-4518-bc5d-dac872767c9f",
   "metadata": {
    "tags": []
   },
   "outputs": [],
   "source": [
    "# filter round 2: remove tweets including at least one of the (medical) words in list 'list2'\n",
    "\n",
    "list2 = [\"hernia\", \"surgery\", \"heartburn\", \"chronicpain\", \"chronic pain\", \"chronicillness\", \"chronic illness\", \"esophagus\", \"esophageal\", \"disorder\", \"#west #nile virus\", \"gerdsymptom\", \"coughing\", \"healing\"]\n",
    "\n",
    "temp_filter2a = filtered1.loc[filtered1[\"text\"].str.lower().str.contains(\"|\".join(list2), regex=True)]\n",
    "\n",
    "filtered2a = pd.concat([temp_filter2a, filtered1]).drop_duplicates(keep=False)"
   ]
  },
  {
   "cell_type": "code",
   "execution_count": 10,
   "id": "81807ba9-ee8f-4c69-a004-846b47522645",
   "metadata": {
    "collapsed": true,
    "jupyter": {
     "outputs_hidden": true
    },
    "tags": []
   },
   "outputs": [
    {
     "data": {
      "text/plain": [
       "[\"@AbiyAhmedAli Ethiopia 100% owner, financier of #GERD, built on a river in Ethiopia, has the sole right to fill GERD at anytime. \\n\\nBut the big question and the fact of the matter is “Will Ethiopia and Egypt's Nile dam dispute lead to war? “\\n\\nI don’t think so... because, Ethiopia &amp; Egypt..1/2\",\n",
       " \"Africa, Europe, &amp; the Middle East can benefit from #GERD's ecofriendly electric power generation. #GERD4All #ItsAfricanDam @MfaEgypt @aftaburhan @MoZ3rban @SecBlinken @EU_Commission @antonioguterres https://t.co/EXPDqqWP4C\",\n",
       " 'African Solutions to African Problems! #Ethiopia #Sudan #Egypt #nile #GERD https://t.co/05Pe87yX4I',\n",
       " 'It was a pleasure to meet H.E Ugo Astuto, Ambassador of European Union to India. We discussed about the recent declaration of Humanitarian truce by the gov’t of Ethiopia, GERD and related issues.@mfaethiopia #EthiopiaPrevails https://t.co/aUsNP5d51y',\n",
       " \"The Grand Ethiopian Renaissance Dam (GERD)\\n - Africa's biggest hydropower project\\n - 4bn cost partly met by citizens buying bonds.\\n - Power generated will transform lives of millions of Ethiopians &amp; Africans.\\n - The White &amp; Blue Nile are Africa's twin water miracle #FillTheGERD https://t.co/amTUyxFwak\",\n",
       " '@SudanPMHamdok chaired committee on #GERD dam. #Sudan rejects unilateral filling &amp; affirms readiness to use all legal means before various regional &amp; international judicial bodies to defend its legitimate interests. #Niger &amp; #Senegal river are examples of sharing water resources. https://t.co/2c6i9jOrvW',\n",
       " 'A week ago, #Ethiopian Army committed a massacre and ethnic genocide of dozens of Amhara nationalists .Gebre Michel, president of the #Tigray region and leader of the #TPLF, declared yesterday that #AbiyAhmedAli will not win this war .#GERD\\nStop ##Ethiopia war crimes in  #Tigray https://t.co/yvcNpqxlTN',\n",
       " '@AP US is trying to maintain their power in 🇪🇹 like a bunch of bullies. 🇪🇹 have decided to stand strong against modern day colonization. Vote them out 2022 and 2024. They don’t care about Africans only maintaining power #TPLFisaTerroristGroup  @POTUS @BarackObama @SecBlinken #GERD',\n",
       " 'Omar al-Bashir’s regime committed a lot of crimes as it fell because of the popular protest. The criminals are hiding under the banner of #GERD and border issue with Ethiopia! It is these criminals that work with Egypt. @SudanTribune_EN #GERDGood4Egypt #UnityForEthiopia',\n",
       " '🤝United in purpose.\\n🤝United for #GERD.\\n🤝Christian &amp; Muslim communities standing as ONE to #DefendEthiopia #EidMubarak\\nhttps://t.co/8fAFicmnR8',\n",
       " 'Ethiopia 🇪🇹 is the place where we should live forever!!! God bless my country, my people! @Sely09755315 @NeaminZeleke @1_filsan @AbiyAhmedAli @Dere_R_Tesfa @Sara88733917 @amggebre @Ja146Yoni @Sara88733917 #UnityForEthiopia #ItsMyDam #EthiopiaNileRights #Ethiopian #GERD',\n",
       " '“We gathered around 60 or 65 tons of waste from the Nile in 2020,” Hani Fawzi, project manager of fisherman from Very Nile said in our interview. #plastic #plasticpollution #goinggreen #nile',\n",
       " \"Fact: In 2014, 91 percent of the Egyptian population received water directly into their residence. In Ethiopia, 57 percent of the country's population gets drinking water away from residence! #GERD helps Ethiopia and does not harm Egypt and Sudan #GERDGood4Egypt #UnityForEthiopia\",\n",
       " 'Peacefully, and patriotically make your voices heard for the unity of #ETHIOPIA &amp; #Ethiopian  through the ballot ! , but without the colonial powers approval! #AbiyAhmedAli #Election2013 #Election2021 #GERD #ItsMyDam #NeaminZeleke #dejene_2011  #LanderMiddle https://t.co/fHcBTf0jWZ',\n",
       " \"UNSC held a meeting on Ethiopia's GERD which never happened before in other countries case, Ethiopia is targetted by TPLF lobbyists not to grow an inch #HandsoffEthiopia #EthiopiaPrevails @HouseForeign @UN_Spokesperson @USEmbassyAddis @JoeBiden https://t.co/NHV33qGumP\",\n",
       " 'Official website to donate for the #GERD Share and donate #ETH\\nhttps://t.co/FqFiF0AUMQ',\n",
       " \"@MuluWorku6 @mfaethiopia #Ethiopia is filling its #quota &amp; doesn't need #Sudan's /#Egypt's permission. #BlueNile is 49 BCM while the 2nd filling of #GERD is about 13.5 BCM (&lt; 30% of the flow). \\n\\nA binding deal with &lt;30% of #BlueNile flow for #Ethiopia is unacceptable at any rate.\\n\\nhttps://t.co/AzcPxbiJcZ\",\n",
       " 'In the #GERD politico-military situation the worst mistake Khartoum will make is to join its enemy Egypt. Who is behind the conflict in Darfur? Sudan should not spoil the second chance it has from the lifting of the sponsor of terrorism charge! #UnityForEthiopia @SudanTribune_EN',\n",
       " 'To say 100 million Egyptians will die from thirst when the #GERD dam fills is like saying the Nile originates from the suburbs of Cairo! Egypt should learn the a, b, c of negotiation in good faith! #UnityForEthiopia @AUC_MoussaFaki @StateDept @EU_Commission',\n",
       " \"While the rest of the world lived in caves, we children of the Nile River hosted ancient civilizations at Axum, Cairo, and Meroe. To triumph over poverty, let's fully utilize the renewable energy produced by the #GERD. #GERD4All #ItsAfricanDam @mohamedbesher_ @StateDept…\"]"
      ]
     },
     "execution_count": 10,
     "metadata": {},
     "output_type": "execute_result"
    }
   ],
   "source": [
    "filtered2a.sample(n=20)[\"text\"].to_list()"
   ]
  },
  {
   "cell_type": "code",
   "execution_count": 11,
   "id": "b074b8ff-707d-49a6-aa94-f79734c74279",
   "metadata": {
    "collapsed": true,
    "jupyter": {
     "outputs_hidden": true
    },
    "tags": []
   },
   "outputs": [
    {
     "data": {
      "text/plain": [
       "['Why did I get GERD?\\n\\n#gerd #chronicacidreflux #chronicacidrefluxdisease #gastroreflux #gastrorefluxdisease #gerdawareness #gerdawarenessweek  #heartburn https://t.co/S6mHZuXM6M',\n",
       " 'This #GERDAwarenessWeek, learn which clinic-based exercise programs cost-effectively prevent falls and fractures in seniors on #PPI therapy for #GERD or other #GI disorders: https://t.co/Qkwhetdj9o  @JPCRR @IFFGD @AmCollegeGastro @AmerGastroAssn @AmerGeriatrics @MedscapeGastro',\n",
       " 'A vibrating pill for constipation heads to the FDA after completing phase 3 study\\n\\n📲 https://t.co/aCBtQS6Mfg\\n.\\n.\\n.\\n#AnthonyStarpoliMD #NewYork #Poughkeepsie #Doctor #Gastroenterologist #Endosurgery #WeightLoss #Surgeon #IBS #Hemorrhoids #Heartburn #GERD https://t.co/BOzL0r9tB7',\n",
       " 'Factors that can contribute to #GERD: Hiatal hernia, Obesity, Zollinger-Ellison syndrome, Hypercalcemia, Scleroderma, Visceroptosis.',\n",
       " 'How to manage your weight without being hungry\\nLearn Now: https://t.co/3p90htEdvA\\n \\n#AnthonyStarpoliMD #NewYork #Poughkeepsie #Doctor #Gastroenterologist #Endosurgery #WeightLoss #GERD https://t.co/aTJdBSJAug',\n",
       " '#GERD sometimes causes injury of the #esophagus.',\n",
       " '#The_ILCGolf2021 #The_ILC #Fundraiser #Charity #EDS #PainManagement #PrioritizePain #MentalHealth #WomensHealth #RareDisease #POTS #Long-COVID #ChronicFatigue #Chiari #MCAS #GERD #NeurosurgeryInequities #CCI #AAI',\n",
       " 'Factors that can contribute to #GERD: Hiatal hernia, Obesity, Zollinger-Ellison syndrome, Hypercalcemia, Scleroderma, Visceroptosis.',\n",
       " 'Look forward to contributing on the latest and brightest on all things Esophagus on @AGA_Gastro Gastro Digest! #GERD #eoe #motility @UCSD_GI https://t.co/I113RyLZwE',\n",
       " '🙆 Personalized approach to the management of #GERD 🔥\\n\\nBest practice tips 👇\\n\\nhttps://t.co/PbWLtOqCgc\\n\\n#medtwitter #medicine #GITwitter #GI #motility #esophagus #heartburn https://t.co/JUoporFZhO',\n",
       " '#GERD sometimes causes injury of the #esophagus.',\n",
       " '#Singapore guidelines on performance/reporting of high-resolution #oesophageal #manometry and ambulatory #pHmonitoring. Read at  https://t.co/ngGG8tgWMG\\n\\n#GastroResidents #GITwitter #GERD #GIMotility #HighResolutionManometry #HRM #PHM\\n\\n@dukenus @mysgh @NTU_LKCMedicine @NUHS @TTSH',\n",
       " 'The historic Anglechik Prosthesis: a procedure with forewarning for lap-bands and Linx?   #GERD #BariatricSurgery https://t.co/wK97Bo6vZU',\n",
       " 'EVERPRIN-D\\nWhen Nighttime GERD Becomes too irritating.\\nEverprin-D Is a combination of PANTOPRAZOLE 40 mg &amp; DOMPERIDONE 30 mg.\\n\\nINDICATIONS OF EVERPRIN-D\\n● GERD\\n● Dyspepsia\\n● Heartburn\\n● NSAIDs are associated with ulcers.\\n\\n#athanasiuspharma #everprind #heartburn #gerd https://t.co/gKTeIBPosb',\n",
       " 'Factors that can contribute to #GERD: Hiatal hernia, Obesity, Zollinger-Ellison syndrome, Hypercalcemia, Scleroderma, Visceroptosis.']"
      ]
     },
     "execution_count": 11,
     "metadata": {},
     "output_type": "execute_result"
    }
   ],
   "source": [
    "temp_filter2a.sample(n=15)[\"text\"].to_list()"
   ]
  },
  {
   "cell_type": "code",
   "execution_count": 12,
   "id": "4c49911b-f6fc-4f48-b076-645653c6fb7e",
   "metadata": {
    "tags": []
   },
   "outputs": [
    {
     "name": "stdout",
     "output_type": "stream",
     "text": [
      "tweets left, original amount, tweets left (%), tweets reduced from last round (%), tweets removed (number)\n",
      "205409 5002288 0.041063009566822226 0.9945818484660676 1119\n"
     ]
    }
   ],
   "source": [
    "print(\"tweets left, original amount, tweets left (%), tweets reduced from last round (%), tweets removed (number)\")\n",
    "print(len(filtered2a), len(ht20to22), len(filtered2a)/len(ht20to22), len(filtered2a)/len(filtered1), len(temp_filter2a))"
   ]
  },
  {
   "cell_type": "code",
   "execution_count": null,
   "id": "9fc81b50-722b-46b8-b794-90f22d0b298c",
   "metadata": {},
   "outputs": [],
   "source": []
  },
  {
   "cell_type": "markdown",
   "id": "8eb2a006-4da7-4056-af59-44839d741425",
   "metadata": {
    "jp-MarkdownHeadingCollapsed": true,
    "tags": []
   },
   "source": [
    "#### Filter 2B: remove tweets containing at least one medical keyword (2011-2019)"
   ]
  },
  {
   "cell_type": "code",
   "execution_count": 13,
   "id": "5fc50f63-f558-4e5d-9a95-b92d27b58b6e",
   "metadata": {
    "tags": []
   },
   "outputs": [],
   "source": [
    "# filter round 2B: remove tweets including at least one of the (medical) words in list 'list2'\n",
    "\n",
    "temp_filter2b = ht11to19.loc[ht11to19[\"text\"].str.lower().str.contains(\"|\".join(list2), regex=True)]\n",
    "\n",
    "filtered2b = pd.concat([temp_filter2b, ht11to19]).drop_duplicates(keep=False)"
   ]
  },
  {
   "cell_type": "code",
   "execution_count": 14,
   "id": "83ef5003-3d45-427f-bf71-04d9f3eafccf",
   "metadata": {
    "collapsed": true,
    "jupyter": {
     "outputs_hidden": true
    },
    "tags": []
   },
   "outputs": [
    {
     "data": {
      "text/plain": [
       "['Good morning Cairo 😍 Upgraded #Nile view from my hotel room this morning.\\n.\\n.\\n.\\n#Egypt #AncientHistory #egyptology #AncientEgyptian #NileView #Zamalek #TravelBlogger #travelblog #travel #Cairo #archaeologists… https://t.co/RVJgAT1dkK',\n",
       " 'Azeb is an  active participant  of  donkey club in Mekele  primary school . #Tigray  #Donkeys #Ethiopia http://t.co/dbBLPBqun9',\n",
       " 'I love Aswan 💕 \\n😍\\n\\n#photooftheday \\n#vscocam \\n#nile \\n#nature \\n#view \\n#vsco \\n#photography… https://t.co/hMIPuG0jOg',\n",
       " '#Ethiopia controls the gates of #Nile and the life of Egyptians.\\n#Egypt controls #Gaza gates and life of Gazans.\\n\\n#Grand #Ethiopian #renaissancedam \\n#alnahda #dam #GERD https://t.co/F7AcjpDljn',\n",
       " '#Eritrea dusty+ashy skin color generation prefer obligation with #Tigray than #AfricanAmerican,#Caribbean, #Latino &amp; #SouthAsian in #ERITREA',\n",
       " 'News: a round-up of highlights from the recent #NeuroGASTRO2019 meeting - https://t.co/nLe7RcysCK #free @esnm_eu #GERD #IBS #FGID #motility #pain https://t.co/ZcS8f6Ngbp',\n",
       " \"Ethiopia's dam on #Nile launched [Updated]: http://t.co/gsQx0Yb #Millennium #dam #Meles #Zenawi #Ethiopia #Egypt #Nile\",\n",
       " 'Restaurant by the #Nile #amazingweather #greatview #cairo #nile #egypt #leftbankcairo https://t.co/gtcecvcSQk',\n",
       " 'Philae Temple Built in 170BC/Egyptian Civilization/Luxor South of #Egypt #Nile #Photography #Art #Design http://t.co/ShsAkZXo7k',\n",
       " 'Good Morning ....✌️✌\\n#egypt #Cairo #nile #hotel #albertboyadjian @ Four Seasons Hotel Cairo at… https://t.co/KSNpD0VsRn',\n",
       " 'Why #Egypt failed again  on its \"Divide &amp; Rule \" vs #Nilebasin nation ? @YvonneKhamati @MEsipisu @SarahKagingo @wasilalitaha @LMushikiwabo https://t.co/Oqo78TIJ48',\n",
       " 'Room with a view. Our visit to the rock-hewn church on top of the hill was worth the climb - a highlight of the amazing two years spent in this extraordinary country. We’re looking forward to exploring further.\\nHappy Birthday @IvaMunro \\n#otherworldly #tigray #ethiopiannewyear https://t.co/RKxXmxBwYp',\n",
       " 'The Surprising Origins of the Death Growl https://t.co/7g024BdgFk via @YouTube\\n#metal #deathmetal #deathgrowl #cannibalcorpse #death #Vikings #nile #amonamarth #bloodbath #デスメタル #oncehuman',\n",
       " '#Ahmed_SH_Bebars #photo_by_me\\n#Nile #hawamdia #helwan @ Giza http://t.co/v9CB5ZhL3K',\n",
       " 'The #Nile has long been a reflection of #Egypt’s history and destiny. Now it’s your turn to be inspired as ancient history and spiritual wonders are revealed at every turn! For more information, visit #LuxuryGold https://t.co/ZFj6UxabMU',\n",
       " 'New Drum only vid by George #Kollias of #Nile http://t.co/KXsQVFJx',\n",
       " 'I love my people!\\n #Tegaru\\nHappy G-20!\\n#Tigray \\nI’m so excited for the music and dance! 🕺',\n",
       " 'A Legend Rises Again With The #Nile #RitzCarlton, #Cairo',\n",
       " '#Nile river. Sunset in #Cairo #mycity https://t.co/UZkW2r1Amv',\n",
       " 'The latest Dazzle pop News! https://t.co/g9ITVbBxG3 #nile #natureme',\n",
       " 'Congratulations to Egypt, Ethiopia, and Sudan for taking important first step toward cooperation on the Nile. http://t.co/dMzW2kfhV6 #Nile',\n",
       " \"Rt @BlueNileDiamond Help us reach 14,000 followers and we'll give away a $250 #BlueNile gift card!\",\n",
       " \"Ethiopia defeated European colonialists at the battle of Adwa. Now they're trying failed neocolonial neoliberal tactics    #HandsOffEthiopia\",\n",
       " '#HawkeyepromoAnd #AlwaysAHawkeye #1DayforIowa #Hawkeye #FTK\\nWhile at the University of Iowa, George \"Red \" Frye played on what many considered the greatest University of Iowa football team, the 1939 legendary Ironman team. Frye earned the IRONMAN team with ##Nile #Kinnick #Albia https://t.co/pQb9D0vTWf',\n",
       " 'Welcome to all new followers :) https://t.co/hdcxtxIWri please check us out and share us #autismawareness #GDD #GERD #DisabilityConfident',\n",
       " \"@tigraionline So it's official. Tigray online doesn't represent the great people of #Tigray. What a shame.\",\n",
       " 'Only 4 /10 Africans\"ve access to a reliable power supply-THIS WHY #ETHIOPIA IS BUILDING #AFRICAN BIGGEST DAM- #GERD  https://t.co/vEixUWBCyN',\n",
       " 'Well said and true indeed. #Ethiopia #TPLF #Tigray #mekelle #axum #Eritrea @ESATtv @YPFDJ @hawelti @fanatelevision @ebczena @fitsumaregaa https://t.co/vXDgzSTM8x',\n",
       " \"#Tigray Women right is human right, Social Gains are never handed out, They must be seized, we will fight for all girls, mother's, shame on you Tigray Regional government\\n#IamMySisterKeeper https://t.co/ULCAt8bNYa\",\n",
       " \"@BlueNileDiamond: Help us reach 10,000 followers and we'll give away a $250 #BlueNile gift card! #Giveaway\",\n",
       " \"RT @BlueNileDiamond When we reach 10k followers, we'll #giveaway a $250 #BlueNile gift card! Follow @BlueNileDiamond to enter\",\n",
       " \"When we reach 10k followers, we'll #giveaway a $250 #BlueNile gift card! Follow @BlueNileDiamond to enter.\",\n",
       " 'Karnak Temple Built in 247BCE/Egyptian Civilization/Luxor South of #Egypt #Nile #Photography #Art #Design http://t.co/oYnppRVEVt',\n",
       " 'Cliff face a challenge to rescue Ethiopian church paintings #Tigray https://t.co/vcKSQNY8JH',\n",
       " 'GERD and insomnia are a horrible combination #imup #gerd #workingin4hours',\n",
       " \"The #Nile #River Basin is a major scene of water crisis, but new Waterkeepers will act as a unified voice for the region's waterways! #waterkeepersunite https://t.co/kMpxIX3efk\",\n",
       " \"#Ethiopia's #rural #energy technologies road show is now in #Tigray as part of its national tour 2 showcase clean &amp; affordable products by local #SMEs such as #Improvedcookingstoves as part of a partnership @mowieethiopia @theGEF @UNDPEthiopia #DevBankofEthiopia @UNCDFCleanStart https://t.co/Xfg1TWq4ek\",\n",
       " '#Ethiopia reassures #Egypt that the River #Nile Dam will not harm #watersupply http://t.co/Mi79yhskWY',\n",
       " '#Ethiopia     #Egyptian Prime minister signs document to protect #Nile River | Egypt Independent http://t.co/pT8uf0pvmn via @egyindependent',\n",
       " 'Last chance! Enter to WIN jewelry, here: http://t.co/zIqnmi5hzk. #BlueNile #giveaway Mobile entry: http://t.co/3LpSQO3Yqd.',\n",
       " '#Tooth #Problems in #Children With #Gerd http://goo.gl/fb/EVsbw #toothdecay',\n",
       " \"The Nile: 'Nubian holy water' \\nhttps://t.co/MhCT1aXAEH via @TheNiles2012\\n#Sudan #heritage #Nile\",\n",
       " 'Apparently there’s a scientific explanation for #Moses parting the #Nile...?',\n",
       " '#Tigray: The National Regional State of Tigray has a #veto constitutional power to reject laws and proclaimations it deems can have adverse effects on its interests. No government body can deny it in the #Federalism state structure.',\n",
       " 'Last minute romantics: here ya go! RT @BlueNileDiamond: Now through Sunday, save up to $700 on #BlueNile Diamonds! http://t.co/5UajiI7p #luv',\n",
       " 'Damming the #Nile: Explore with 360 video - BBC News https://t.co/1j1xoc2QyH',\n",
       " 'RT @BlueNileDiamond \"Help us reach 10,000 followers and we\\'ll give away a $250 #BlueNile gift card! #giveaway\"',\n",
       " 'Free guide to history &amp; archaeology of Dongola, capital of Christian Makuria #Nile #Nubia from 5th century AD https://t.co/2HQDCHRjqT',\n",
       " \"Goshhhhhh my baby did good!! 😍💍☺️ he's so perfect!!! I am so beyond blessed! #bluenile… https://t.co/kqZvky3REO\",\n",
       " 'Sunset #Aswan #Nile #Egypt https://t.co/5oM5hdusm1']"
      ]
     },
     "execution_count": 14,
     "metadata": {},
     "output_type": "execute_result"
    }
   ],
   "source": [
    "filtered2b.sample(n=50)[\"text\"].to_list()"
   ]
  },
  {
   "cell_type": "code",
   "execution_count": 15,
   "id": "5d0a4616-4163-4677-ae4d-d5b60c44d9d4",
   "metadata": {
    "tags": []
   },
   "outputs": [
    {
     "name": "stdout",
     "output_type": "stream",
     "text": [
      "tweets left, original amount, tweets left (%), tweets removed (number)\n",
      "107448 117818 0.9119828888624828 10370\n"
     ]
    }
   ],
   "source": [
    "print(\"tweets left, original amount, tweets left (%), tweets removed (number)\")\n",
    "print(len(filtered2b), len(ht11to19), len(filtered2b)/len(ht11to19), len(temp_filter2b))"
   ]
  },
  {
   "cell_type": "markdown",
   "id": "71c3bb73-c79f-4227-bd83-9cd9687735fe",
   "metadata": {
    "jp-MarkdownHeadingCollapsed": true,
    "tags": []
   },
   "source": [
    "#### Filter 3: remove tweets containing at least one music/tourism related keyword (2011-2022)"
   ]
  },
  {
   "cell_type": "code",
   "execution_count": null,
   "id": "ea951127-2da4-433b-9eeb-9a8bd58335bf",
   "metadata": {},
   "outputs": [],
   "source": []
  },
  {
   "cell_type": "code",
   "execution_count": 16,
   "id": "bf82fbda-c101-475e-a7e2-393552350bc3",
   "metadata": {
    "tags": []
   },
   "outputs": [
    {
     "data": {
      "text/html": [
       "<div>\n",
       "<style scoped>\n",
       "    .dataframe tbody tr th:only-of-type {\n",
       "        vertical-align: middle;\n",
       "    }\n",
       "\n",
       "    .dataframe tbody tr th {\n",
       "        vertical-align: top;\n",
       "    }\n",
       "\n",
       "    .dataframe thead th {\n",
       "        text-align: right;\n",
       "    }\n",
       "</style>\n",
       "<table border=\"1\" class=\"dataframe\">\n",
       "  <thead>\n",
       "    <tr style=\"text-align: right;\">\n",
       "      <th></th>\n",
       "      <th>created_at</th>\n",
       "      <th>id</th>\n",
       "      <th>author_id</th>\n",
       "      <th>conversation_id</th>\n",
       "      <th>reply_settings</th>\n",
       "      <th>text</th>\n",
       "      <th>lang</th>\n",
       "      <th>public_metrics.retweet_count</th>\n",
       "      <th>public_metrics.reply_count</th>\n",
       "      <th>public_metrics.like_count</th>\n",
       "      <th>...</th>\n",
       "      <th>user.public_metrics.following_count</th>\n",
       "      <th>user.public_metrics.tweet_count</th>\n",
       "      <th>user.public_metrics.listed_count</th>\n",
       "      <th>user.url</th>\n",
       "      <th>user.id</th>\n",
       "      <th>user.username</th>\n",
       "      <th>user.profile_image_url</th>\n",
       "      <th>user.created_at</th>\n",
       "      <th>user.location</th>\n",
       "      <th>user.description</th>\n",
       "    </tr>\n",
       "  </thead>\n",
       "  <tbody>\n",
       "    <tr>\n",
       "      <th>1</th>\n",
       "      <td>2020-01-01T23:44:11.000Z</td>\n",
       "      <td>1212519922993111040</td>\n",
       "      <td>14450089</td>\n",
       "      <td>1212519922993111040</td>\n",
       "      <td>everyone</td>\n",
       "      <td>#Nile River Valley and the #Indus River Basin ...</td>\n",
       "      <td>en</td>\n",
       "      <td>0</td>\n",
       "      <td>0</td>\n",
       "      <td>2</td>\n",
       "      <td>...</td>\n",
       "      <td>2109</td>\n",
       "      <td>50523</td>\n",
       "      <td>38</td>\n",
       "      <td>https://t.co/B9zzZrNsFU</td>\n",
       "      <td>14450089</td>\n",
       "      <td>ilatif</td>\n",
       "      <td>https://pbs.twimg.com/profile_images/161942020...</td>\n",
       "      <td>2008-04-20T08:07:55.000Z</td>\n",
       "      <td>Paris</td>\n",
       "      <td>A strategic analyst keenly interested in our g...</td>\n",
       "    </tr>\n",
       "    <tr>\n",
       "      <th>2</th>\n",
       "      <td>2020-01-01T23:41:12.000Z</td>\n",
       "      <td>1212519169725472769</td>\n",
       "      <td>14450089</td>\n",
       "      <td>1212519169725472769</td>\n",
       "      <td>everyone</td>\n",
       "      <td>#Nile River Valley and the Indus River Basin a...</td>\n",
       "      <td>en</td>\n",
       "      <td>0</td>\n",
       "      <td>1</td>\n",
       "      <td>2</td>\n",
       "      <td>...</td>\n",
       "      <td>2109</td>\n",
       "      <td>50523</td>\n",
       "      <td>38</td>\n",
       "      <td>https://t.co/B9zzZrNsFU</td>\n",
       "      <td>14450089</td>\n",
       "      <td>ilatif</td>\n",
       "      <td>https://pbs.twimg.com/profile_images/161942020...</td>\n",
       "      <td>2008-04-20T08:07:55.000Z</td>\n",
       "      <td>Paris</td>\n",
       "      <td>A strategic analyst keenly interested in our g...</td>\n",
       "    </tr>\n",
       "    <tr>\n",
       "      <th>9</th>\n",
       "      <td>2020-01-01T20:39:50.000Z</td>\n",
       "      <td>1212473527426830338</td>\n",
       "      <td>1128019934422892544</td>\n",
       "      <td>1212473527426830338</td>\n",
       "      <td>everyone</td>\n",
       "      <td>Happy New Year, Addis Hiking Family! \\nWe had ...</td>\n",
       "      <td>en</td>\n",
       "      <td>1</td>\n",
       "      <td>1</td>\n",
       "      <td>9</td>\n",
       "      <td>...</td>\n",
       "      <td>40</td>\n",
       "      <td>204</td>\n",
       "      <td>4</td>\n",
       "      <td>None</td>\n",
       "      <td>1128019934422892544</td>\n",
       "      <td>addis_hiking</td>\n",
       "      <td>https://pbs.twimg.com/profile_images/156858721...</td>\n",
       "      <td>2019-05-13T19:31:24.000Z</td>\n",
       "      <td>Äthiopien</td>\n",
       "      <td>It's all about adventure, admiring the beauty ...</td>\n",
       "    </tr>\n",
       "    <tr>\n",
       "      <th>13</th>\n",
       "      <td>2020-01-01T16:01:45.000Z</td>\n",
       "      <td>1212403548048285696</td>\n",
       "      <td>451232651</td>\n",
       "      <td>1212403548048285696</td>\n",
       "      <td>everyone</td>\n",
       "      <td>The colorful Timkat festivity(Ethiopian Epipha...</td>\n",
       "      <td>en</td>\n",
       "      <td>0</td>\n",
       "      <td>0</td>\n",
       "      <td>5</td>\n",
       "      <td>...</td>\n",
       "      <td>1493</td>\n",
       "      <td>14909</td>\n",
       "      <td>35</td>\n",
       "      <td>https://t.co/lNhwn36qYJ</td>\n",
       "      <td>451232651</td>\n",
       "      <td>febewol7</td>\n",
       "      <td>https://pbs.twimg.com/profile_images/162193715...</td>\n",
       "      <td>2011-12-31T05:53:30.000Z</td>\n",
       "      <td>United States</td>\n",
       "      <td>#Ethiopia 24/7 | Music Enthusiast| 100% ETHIOP...</td>\n",
       "    </tr>\n",
       "    <tr>\n",
       "      <th>14</th>\n",
       "      <td>2020-01-01T13:09:03.000Z</td>\n",
       "      <td>1212360084589809665</td>\n",
       "      <td>451232651</td>\n",
       "      <td>1212360084589809665</td>\n",
       "      <td>everyone</td>\n",
       "      <td>#LandOfOrigins Love it!! https://t.co/zDcz25pfZg</td>\n",
       "      <td>en</td>\n",
       "      <td>0</td>\n",
       "      <td>0</td>\n",
       "      <td>1</td>\n",
       "      <td>...</td>\n",
       "      <td>1493</td>\n",
       "      <td>14909</td>\n",
       "      <td>35</td>\n",
       "      <td>https://t.co/lNhwn36qYJ</td>\n",
       "      <td>451232651</td>\n",
       "      <td>febewol7</td>\n",
       "      <td>https://pbs.twimg.com/profile_images/162193715...</td>\n",
       "      <td>2011-12-31T05:53:30.000Z</td>\n",
       "      <td>United States</td>\n",
       "      <td>#Ethiopia 24/7 | Music Enthusiast| 100% ETHIOP...</td>\n",
       "    </tr>\n",
       "    <tr>\n",
       "      <th>...</th>\n",
       "      <td>...</td>\n",
       "      <td>...</td>\n",
       "      <td>...</td>\n",
       "      <td>...</td>\n",
       "      <td>...</td>\n",
       "      <td>...</td>\n",
       "      <td>...</td>\n",
       "      <td>...</td>\n",
       "      <td>...</td>\n",
       "      <td>...</td>\n",
       "      <td>...</td>\n",
       "      <td>...</td>\n",
       "      <td>...</td>\n",
       "      <td>...</td>\n",
       "      <td>...</td>\n",
       "      <td>...</td>\n",
       "      <td>...</td>\n",
       "      <td>...</td>\n",
       "      <td>...</td>\n",
       "      <td>...</td>\n",
       "      <td>...</td>\n",
       "    </tr>\n",
       "    <tr>\n",
       "      <th>16909</th>\n",
       "      <td>2019-12-31T09:12:00.000Z</td>\n",
       "      <td>1211938040593231872</td>\n",
       "      <td>1180889598853029892</td>\n",
       "      <td>1211938040593231872</td>\n",
       "      <td>everyone</td>\n",
       "      <td>#Nile tradesman https://t.co/z5LSCHByqj</td>\n",
       "      <td>en</td>\n",
       "      <td>0</td>\n",
       "      <td>0</td>\n",
       "      <td>0</td>\n",
       "      <td>...</td>\n",
       "      <td>242</td>\n",
       "      <td>1356</td>\n",
       "      <td>0</td>\n",
       "      <td>None</td>\n",
       "      <td>1180889598853029892</td>\n",
       "      <td>DJappyPhotos</td>\n",
       "      <td>https://pbs.twimg.com/profile_images/121172121...</td>\n",
       "      <td>2019-10-06T16:56:45.000Z</td>\n",
       "      <td>None</td>\n",
       "      <td>Some of my photos for the world to see - pleas...</td>\n",
       "    </tr>\n",
       "    <tr>\n",
       "      <th>16910</th>\n",
       "      <td>2019-12-31T08:31:52.000Z</td>\n",
       "      <td>1211927943041044486</td>\n",
       "      <td>14337796</td>\n",
       "      <td>1211927943041044486</td>\n",
       "      <td>everyone</td>\n",
       "      <td>Kingdom by the Nile.\\n.\\n.\\n.\\n.\\n.\\n#🇪🇬 #medi...</td>\n",
       "      <td>en</td>\n",
       "      <td>0</td>\n",
       "      <td>0</td>\n",
       "      <td>1</td>\n",
       "      <td>...</td>\n",
       "      <td>820</td>\n",
       "      <td>1148</td>\n",
       "      <td>17</td>\n",
       "      <td>https://t.co/UfbSols4WE</td>\n",
       "      <td>14337796</td>\n",
       "      <td>rayshan</td>\n",
       "      <td>https://pbs.twimg.com/profile_images/378800000...</td>\n",
       "      <td>2008-04-09T01:09:26.000Z</td>\n",
       "      <td>San Francisco</td>\n",
       "      <td>Building infrastructure that builds the next g...</td>\n",
       "    </tr>\n",
       "    <tr>\n",
       "      <th>16934</th>\n",
       "      <td>2019-12-31T07:56:59.000Z</td>\n",
       "      <td>1211919162202820608</td>\n",
       "      <td>1081876641138143232</td>\n",
       "      <td>1211571560177385473</td>\n",
       "      <td>everyone</td>\n",
       "      <td>@Dawit99910437 @Emuye06 @speed_of_trust The pp...</td>\n",
       "      <td>en</td>\n",
       "      <td>0</td>\n",
       "      <td>0</td>\n",
       "      <td>0</td>\n",
       "      <td>...</td>\n",
       "      <td>821</td>\n",
       "      <td>20813</td>\n",
       "      <td>0</td>\n",
       "      <td>None</td>\n",
       "      <td>1081876641138143232</td>\n",
       "      <td>the_curious_2</td>\n",
       "      <td>https://pbs.twimg.com/profile_images/136089916...</td>\n",
       "      <td>2019-01-06T11:34:26.000Z</td>\n",
       "      <td>Vereinigte Staaten</td>\n",
       "      <td>Views are personal                            ...</td>\n",
       "    </tr>\n",
       "    <tr>\n",
       "      <th>16937</th>\n",
       "      <td>2019-12-31T06:03:00.000Z</td>\n",
       "      <td>1211890476284030976</td>\n",
       "      <td>3233487513</td>\n",
       "      <td>1211890476284030976</td>\n",
       "      <td>everyone</td>\n",
       "      <td>Such an exciting experience! An honor to have ...</td>\n",
       "      <td>en</td>\n",
       "      <td>0</td>\n",
       "      <td>0</td>\n",
       "      <td>0</td>\n",
       "      <td>...</td>\n",
       "      <td>58</td>\n",
       "      <td>679</td>\n",
       "      <td>10</td>\n",
       "      <td>None</td>\n",
       "      <td>3233487513</td>\n",
       "      <td>Chef_Yohanis</td>\n",
       "      <td>https://pbs.twimg.com/profile_images/595237017...</td>\n",
       "      <td>2015-05-04T14:30:47.000Z</td>\n",
       "      <td>None</td>\n",
       "      <td>None</td>\n",
       "    </tr>\n",
       "    <tr>\n",
       "      <th>16940</th>\n",
       "      <td>2019-12-31T02:44:10.000Z</td>\n",
       "      <td>1211840439197691905</td>\n",
       "      <td>2909023273</td>\n",
       "      <td>1211840439197691905</td>\n",
       "      <td>everyone</td>\n",
       "      <td>@makemytrip first you say refund not possible ...</td>\n",
       "      <td>en</td>\n",
       "      <td>0</td>\n",
       "      <td>2</td>\n",
       "      <td>1</td>\n",
       "      <td>...</td>\n",
       "      <td>34</td>\n",
       "      <td>40</td>\n",
       "      <td>0</td>\n",
       "      <td>None</td>\n",
       "      <td>2909023273</td>\n",
       "      <td>DrIrfanWajih</td>\n",
       "      <td>https://pbs.twimg.com/profile_images/536850214...</td>\n",
       "      <td>2014-11-24T11:22:12.000Z</td>\n",
       "      <td>Lucknow</td>\n",
       "      <td>None</td>\n",
       "    </tr>\n",
       "  </tbody>\n",
       "</table>\n",
       "<p>291139 rows × 26 columns</p>\n",
       "</div>"
      ],
      "text/plain": [
       "                     created_at                   id            author_id  \\\n",
       "1      2020-01-01T23:44:11.000Z  1212519922993111040             14450089   \n",
       "2      2020-01-01T23:41:12.000Z  1212519169725472769             14450089   \n",
       "9      2020-01-01T20:39:50.000Z  1212473527426830338  1128019934422892544   \n",
       "13     2020-01-01T16:01:45.000Z  1212403548048285696            451232651   \n",
       "14     2020-01-01T13:09:03.000Z  1212360084589809665            451232651   \n",
       "...                         ...                  ...                  ...   \n",
       "16909  2019-12-31T09:12:00.000Z  1211938040593231872  1180889598853029892   \n",
       "16910  2019-12-31T08:31:52.000Z  1211927943041044486             14337796   \n",
       "16934  2019-12-31T07:56:59.000Z  1211919162202820608  1081876641138143232   \n",
       "16937  2019-12-31T06:03:00.000Z  1211890476284030976           3233487513   \n",
       "16940  2019-12-31T02:44:10.000Z  1211840439197691905           2909023273   \n",
       "\n",
       "           conversation_id reply_settings  \\\n",
       "1      1212519922993111040       everyone   \n",
       "2      1212519169725472769       everyone   \n",
       "9      1212473527426830338       everyone   \n",
       "13     1212403548048285696       everyone   \n",
       "14     1212360084589809665       everyone   \n",
       "...                    ...            ...   \n",
       "16909  1211938040593231872       everyone   \n",
       "16910  1211927943041044486       everyone   \n",
       "16934  1211571560177385473       everyone   \n",
       "16937  1211890476284030976       everyone   \n",
       "16940  1211840439197691905       everyone   \n",
       "\n",
       "                                                    text lang  \\\n",
       "1      #Nile River Valley and the #Indus River Basin ...   en   \n",
       "2      #Nile River Valley and the Indus River Basin a...   en   \n",
       "9      Happy New Year, Addis Hiking Family! \\nWe had ...   en   \n",
       "13     The colorful Timkat festivity(Ethiopian Epipha...   en   \n",
       "14      #LandOfOrigins Love it!! https://t.co/zDcz25pfZg   en   \n",
       "...                                                  ...  ...   \n",
       "16909            #Nile tradesman https://t.co/z5LSCHByqj   en   \n",
       "16910  Kingdom by the Nile.\\n.\\n.\\n.\\n.\\n.\\n#🇪🇬 #medi...   en   \n",
       "16934  @Dawit99910437 @Emuye06 @speed_of_trust The pp...   en   \n",
       "16937  Such an exciting experience! An honor to have ...   en   \n",
       "16940  @makemytrip first you say refund not possible ...   en   \n",
       "\n",
       "       public_metrics.retweet_count  public_metrics.reply_count  \\\n",
       "1                                 0                           0   \n",
       "2                                 0                           1   \n",
       "9                                 1                           1   \n",
       "13                                0                           0   \n",
       "14                                0                           0   \n",
       "...                             ...                         ...   \n",
       "16909                             0                           0   \n",
       "16910                             0                           0   \n",
       "16934                             0                           0   \n",
       "16937                             0                           0   \n",
       "16940                             0                           2   \n",
       "\n",
       "       public_metrics.like_count  ...  user.public_metrics.following_count  \\\n",
       "1                              2  ...                                 2109   \n",
       "2                              2  ...                                 2109   \n",
       "9                              9  ...                                   40   \n",
       "13                             5  ...                                 1493   \n",
       "14                             1  ...                                 1493   \n",
       "...                          ...  ...                                  ...   \n",
       "16909                          0  ...                                  242   \n",
       "16910                          1  ...                                  820   \n",
       "16934                          0  ...                                  821   \n",
       "16937                          0  ...                                   58   \n",
       "16940                          1  ...                                   34   \n",
       "\n",
       "       user.public_metrics.tweet_count user.public_metrics.listed_count  \\\n",
       "1                                50523                               38   \n",
       "2                                50523                               38   \n",
       "9                                  204                                4   \n",
       "13                               14909                               35   \n",
       "14                               14909                               35   \n",
       "...                                ...                              ...   \n",
       "16909                             1356                                0   \n",
       "16910                             1148                               17   \n",
       "16934                            20813                                0   \n",
       "16937                              679                               10   \n",
       "16940                               40                                0   \n",
       "\n",
       "                      user.url              user.id  user.username  \\\n",
       "1      https://t.co/B9zzZrNsFU             14450089         ilatif   \n",
       "2      https://t.co/B9zzZrNsFU             14450089         ilatif   \n",
       "9                         None  1128019934422892544   addis_hiking   \n",
       "13     https://t.co/lNhwn36qYJ            451232651       febewol7   \n",
       "14     https://t.co/lNhwn36qYJ            451232651       febewol7   \n",
       "...                        ...                  ...            ...   \n",
       "16909                     None  1180889598853029892   DJappyPhotos   \n",
       "16910  https://t.co/UfbSols4WE             14337796        rayshan   \n",
       "16934                     None  1081876641138143232  the_curious_2   \n",
       "16937                     None           3233487513   Chef_Yohanis   \n",
       "16940                     None           2909023273   DrIrfanWajih   \n",
       "\n",
       "                                  user.profile_image_url  \\\n",
       "1      https://pbs.twimg.com/profile_images/161942020...   \n",
       "2      https://pbs.twimg.com/profile_images/161942020...   \n",
       "9      https://pbs.twimg.com/profile_images/156858721...   \n",
       "13     https://pbs.twimg.com/profile_images/162193715...   \n",
       "14     https://pbs.twimg.com/profile_images/162193715...   \n",
       "...                                                  ...   \n",
       "16909  https://pbs.twimg.com/profile_images/121172121...   \n",
       "16910  https://pbs.twimg.com/profile_images/378800000...   \n",
       "16934  https://pbs.twimg.com/profile_images/136089916...   \n",
       "16937  https://pbs.twimg.com/profile_images/595237017...   \n",
       "16940  https://pbs.twimg.com/profile_images/536850214...   \n",
       "\n",
       "                user.created_at       user.location  \\\n",
       "1      2008-04-20T08:07:55.000Z               Paris   \n",
       "2      2008-04-20T08:07:55.000Z               Paris   \n",
       "9      2019-05-13T19:31:24.000Z           Äthiopien   \n",
       "13     2011-12-31T05:53:30.000Z       United States   \n",
       "14     2011-12-31T05:53:30.000Z       United States   \n",
       "...                         ...                 ...   \n",
       "16909  2019-10-06T16:56:45.000Z                None   \n",
       "16910  2008-04-09T01:09:26.000Z       San Francisco   \n",
       "16934  2019-01-06T11:34:26.000Z  Vereinigte Staaten   \n",
       "16937  2015-05-04T14:30:47.000Z                None   \n",
       "16940  2014-11-24T11:22:12.000Z             Lucknow   \n",
       "\n",
       "                                        user.description  \n",
       "1      A strategic analyst keenly interested in our g...  \n",
       "2      A strategic analyst keenly interested in our g...  \n",
       "9      It's all about adventure, admiring the beauty ...  \n",
       "13     #Ethiopia 24/7 | Music Enthusiast| 100% ETHIOP...  \n",
       "14     #Ethiopia 24/7 | Music Enthusiast| 100% ETHIOP...  \n",
       "...                                                  ...  \n",
       "16909  Some of my photos for the world to see - pleas...  \n",
       "16910  Building infrastructure that builds the next g...  \n",
       "16934  Views are personal                            ...  \n",
       "16937                                               None  \n",
       "16940                                               None  \n",
       "\n",
       "[291139 rows x 26 columns]"
      ]
     },
     "execution_count": 16,
     "metadata": {},
     "output_type": "execute_result"
    }
   ],
   "source": [
    "# concat results from 2A and 2B to be used in this step\n",
    "\n",
    "filtered2 = pd.concat([filtered2a, filtered2b])\n",
    "\n",
    "list3 = [\"deathmetal\", \"death metal\", \"photography\", \"rodgers\", \"drummer\", \"spacevine\", \"cruise\", \"sunset\", \"guitar\", \"#travel\", \"#tourism\", \"metal\", \"#fashion\", \"bluenilediamond\"]\n",
    "\n",
    "temp_filter3 = filtered2.loc[filtered2[\"text\"].str.lower().str.contains(\"|\".join(list3), regex=True)]\n",
    "\n",
    "filtered3 = pd.concat([temp_filter3, filtered2]).drop_duplicates(keep=False)\n",
    "filtered3"
   ]
  },
  {
   "cell_type": "code",
   "execution_count": 17,
   "id": "0079d02f-7524-41a4-a2d2-41e92c70840c",
   "metadata": {
    "tags": []
   },
   "outputs": [
    {
     "name": "stdout",
     "output_type": "stream",
     "text": [
      "tweets left, original amount, tweets left (%), tweets removed (number)\n",
      "291139 312857 0.930581703461965 21718\n"
     ]
    }
   ],
   "source": [
    "print(\"tweets left, original amount, tweets left (%), tweets removed (number)\")\n",
    "print(len(filtered3), len(filtered2), len(filtered3)/len(filtered2), len(temp_filter3))"
   ]
  },
  {
   "cell_type": "code",
   "execution_count": 22,
   "id": "b01ed64e-fe85-4687-a29a-4bf42b344ea4",
   "metadata": {
    "tags": []
   },
   "outputs": [
    {
     "data": {
      "text/plain": [
       "['RT @Astro_Ron: What eastern Med looked like yesterday just after sunset Tel Aviv #Amman #Nile #Cyprus #Istanbul  http://twitpic.com/64icak',\n",
       " '@djdavidcraig @nilerodgers @SandanceDubai CHIC #NILE RODGERS#the best of the best!!! Love you!!! from Asuncion /Paraguay!',\n",
       " 'river nile cruise egypt photo hd image wallpaper http://t.co/pXsFEcNgb2 #river #nile #cruise #egypt #photo #hd #image #wallpaper',\n",
       " 'One year ago #egypt #travel #sunset #discover #cruise #nile #nofilter https://t.co/4D6UsdDV7k https://t.co/AnOGDrrf5O',\n",
       " '#KodakAgfa Presents : A #Cairo pinkish #Sunset http://t.co/hQnolkAmbP #Nile #Photos #Photogallery',\n",
       " '#Travel diaries: Temples, ochre sand dunes, and the minarets of mosques during a #cruise down the #Nile, #Egypt http://t.co/Sz0tNz7g',\n",
       " 'Hideous Divinity – Ages Die #HideousDivinity #BrutalDeathMetal #TechnicalDeathMetal FFO #HourOfPenance #Nile https://t.co/zceUTrzFEu',\n",
       " 'Retweet if you love Brutal Fucking Death Metal!! \\\\mXm/\\n#Origin #Cryptopsy #Carcass #CannibalCorpse #Suffocation #Nile #Mortician #DyingFetus',\n",
       " 'Photo: The Nile right before #sunset #cairo #egypt #nile #instagram #igdaily #bestoftheday #nature #jj... http://t.co/YpIdntXn',\n",
       " '#Nile Rodgers: Madonna knows best http://t.co/0qY7rWJ8ik Nile Rodgers was convinced Mat #*****']"
      ]
     },
     "execution_count": 22,
     "metadata": {},
     "output_type": "execute_result"
    }
   ],
   "source": [
    "temp_filter3[\"text\"].sample(n=10).to_list()"
   ]
  },
  {
   "cell_type": "markdown",
   "id": "4d0cfd63-6034-4c7a-85b2-2335c7b7c6bb",
   "metadata": {
    "tags": []
   },
   "source": [
    "#### Investigating results from rounds 1-3 & saving filtered dataframe (7.3.2023)"
   ]
  },
  {
   "cell_type": "code",
   "execution_count": 18,
   "id": "d34f928d-51f7-4c5b-8167-ebcc57509a1f",
   "metadata": {
    "tags": []
   },
   "outputs": [],
   "source": [
    "temp_df = get_daily_tweet_counts(filtered3)"
   ]
  },
  {
   "cell_type": "code",
   "execution_count": 19,
   "id": "ce1c321c-3be6-4469-a0d7-048aecabe9cc",
   "metadata": {
    "tags": []
   },
   "outputs": [
    {
     "data": {
      "text/plain": [
       "Index(['created_at', 'id', 'author_id', 'conversation_id', 'reply_settings',\n",
       "       'text', 'lang', 'public_metrics.retweet_count',\n",
       "       'public_metrics.reply_count', 'public_metrics.like_count',\n",
       "       'public_metrics.quote_count', 'possibly_sensitive',\n",
       "       'referenced_tweets.id', 'referenced_tweets.type', 'in_reply_to_user_id',\n",
       "       'user.public_metrics.followers_count',\n",
       "       'user.public_metrics.following_count',\n",
       "       'user.public_metrics.tweet_count', 'user.public_metrics.listed_count',\n",
       "       'user.url', 'user.id', 'user.username', 'user.profile_image_url',\n",
       "       'user.created_at', 'user.location', 'user.description', 'day', 'count'],\n",
       "      dtype='object')"
      ]
     },
     "execution_count": 19,
     "metadata": {},
     "output_type": "execute_result"
    }
   ],
   "source": [
    "temp_df.columns"
   ]
  },
  {
   "cell_type": "code",
   "execution_count": 21,
   "id": "fd2f1903-900e-425b-a457-4f07002946fb",
   "metadata": {
    "tags": []
   },
   "outputs": [],
   "source": [
    "# save temp_df to data/filtered_data0703 as csv because parquet does not accept some objects in dataframe\n",
    "\n",
    "\n",
    "#temp_df.to_csv(\"data/filter/en/filtered_data1703.csv\")"
   ]
  },
  {
   "cell_type": "code",
   "execution_count": null,
   "id": "5c736553-ca9e-4848-b63b-8d317225ba78",
   "metadata": {},
   "outputs": [],
   "source": []
  }
 ],
 "metadata": {
  "kernelspec": {
   "display_name": "Python 3 (ipykernel)",
   "language": "python",
   "name": "python3"
  },
  "language_info": {
   "codemirror_mode": {
    "name": "ipython",
    "version": 3
   },
   "file_extension": ".py",
   "mimetype": "text/x-python",
   "name": "python",
   "nbconvert_exporter": "python",
   "pygments_lexer": "ipython3",
   "version": "3.11.1"
  }
 },
 "nbformat": 4,
 "nbformat_minor": 5
}
