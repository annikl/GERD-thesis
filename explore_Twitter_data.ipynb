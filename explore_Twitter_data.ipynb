{
 "cells": [
  {
   "cell_type": "code",
   "execution_count": 1,
   "id": "65dec105-a70a-45e7-9cf2-a0f745d652ce",
   "metadata": {
    "tags": []
   },
   "outputs": [],
   "source": [
    "import pandas as pd"
   ]
  },
  {
   "cell_type": "markdown",
   "id": "37b5b79c-296d-4ef4-89c2-2f27e349ab70",
   "metadata": {
    "jp-MarkdownHeadingCollapsed": true,
    "tags": []
   },
   "source": [
    "## User history"
   ]
  },
  {
   "cell_type": "code",
   "execution_count": 2,
   "id": "593a27a4-ec6a-42a1-a319-e22a25af6e0b",
   "metadata": {
    "tags": []
   },
   "outputs": [],
   "source": [
    "# Filepath\n",
    "fp = \"data/TweetSearch_2022.parquet\""
   ]
  },
  {
   "cell_type": "code",
   "execution_count": 3,
   "id": "0a4941e5-bffe-45a6-a742-74d172b1dda9",
   "metadata": {
    "tags": []
   },
   "outputs": [],
   "source": [
    "#pd.show_versions()"
   ]
  },
  {
   "cell_type": "code",
   "execution_count": 4,
   "id": "4bcbbd0a-8e3d-4586-a62f-4a9627b9764d",
   "metadata": {
    "tags": []
   },
   "outputs": [],
   "source": [
    "# Read the file\n",
    "users = pd.read_parquet(fp)"
   ]
  },
  {
   "cell_type": "code",
   "execution_count": 5,
   "id": "c347f721-6b2d-4160-93a4-69bdae2e360b",
   "metadata": {
    "tags": []
   },
   "outputs": [
    {
     "data": {
      "text/html": [
       "<div>\n",
       "<style scoped>\n",
       "    .dataframe tbody tr th:only-of-type {\n",
       "        vertical-align: middle;\n",
       "    }\n",
       "\n",
       "    .dataframe tbody tr th {\n",
       "        vertical-align: top;\n",
       "    }\n",
       "\n",
       "    .dataframe thead th {\n",
       "        text-align: right;\n",
       "    }\n",
       "</style>\n",
       "<table border=\"1\" class=\"dataframe\">\n",
       "  <thead>\n",
       "    <tr style=\"text-align: right;\">\n",
       "      <th></th>\n",
       "      <th>created_at</th>\n",
       "      <th>id</th>\n",
       "      <th>author_id</th>\n",
       "      <th>conversation_id</th>\n",
       "      <th>reply_settings</th>\n",
       "      <th>text</th>\n",
       "      <th>lang</th>\n",
       "      <th>public_metrics.retweet_count</th>\n",
       "      <th>public_metrics.reply_count</th>\n",
       "      <th>public_metrics.like_count</th>\n",
       "      <th>...</th>\n",
       "      <th>user.public_metrics.following_count</th>\n",
       "      <th>user.public_metrics.tweet_count</th>\n",
       "      <th>user.public_metrics.listed_count</th>\n",
       "      <th>user.url</th>\n",
       "      <th>user.id</th>\n",
       "      <th>user.username</th>\n",
       "      <th>user.profile_image_url</th>\n",
       "      <th>user.created_at</th>\n",
       "      <th>user.location</th>\n",
       "      <th>user.description</th>\n",
       "    </tr>\n",
       "  </thead>\n",
       "  <tbody>\n",
       "    <tr>\n",
       "      <th>0</th>\n",
       "      <td>2022-01-01T23:59:49.000Z</td>\n",
       "      <td>1477429383606456320</td>\n",
       "      <td>1373375646651588611</td>\n",
       "      <td>1477429383606456320</td>\n",
       "      <td>everyone</td>\n",
       "      <td>While the world is celebrating the holidays wi...</td>\n",
       "      <td>en</td>\n",
       "      <td>6</td>\n",
       "      <td>0</td>\n",
       "      <td>5</td>\n",
       "      <td>...</td>\n",
       "      <td>1623</td>\n",
       "      <td>164380</td>\n",
       "      <td>1</td>\n",
       "      <td>https://t.co/5d2uUqGoOR</td>\n",
       "      <td>1373375646651588611</td>\n",
       "      <td>ANSEBAFREEDOM</td>\n",
       "      <td>https://pbs.twimg.com/profile_images/158329544...</td>\n",
       "      <td>2021-03-20T20:48:16.000Z</td>\n",
       "      <td>None</td>\n",
       "      <td>In Ethiopia🇪🇹 bullet to the head is mercy.The ...</td>\n",
       "    </tr>\n",
       "    <tr>\n",
       "      <th>1</th>\n",
       "      <td>2022-01-01T23:59:32.000Z</td>\n",
       "      <td>1477429315906199559</td>\n",
       "      <td>1373375646651588611</td>\n",
       "      <td>1477429315906199559</td>\n",
       "      <td>everyone</td>\n",
       "      <td>While the world is celebrating the holidays wi...</td>\n",
       "      <td>en</td>\n",
       "      <td>7</td>\n",
       "      <td>0</td>\n",
       "      <td>5</td>\n",
       "      <td>...</td>\n",
       "      <td>1623</td>\n",
       "      <td>164380</td>\n",
       "      <td>1</td>\n",
       "      <td>https://t.co/5d2uUqGoOR</td>\n",
       "      <td>1373375646651588611</td>\n",
       "      <td>ANSEBAFREEDOM</td>\n",
       "      <td>https://pbs.twimg.com/profile_images/158329544...</td>\n",
       "      <td>2021-03-20T20:48:16.000Z</td>\n",
       "      <td>None</td>\n",
       "      <td>In Ethiopia🇪🇹 bullet to the head is mercy.The ...</td>\n",
       "    </tr>\n",
       "    <tr>\n",
       "      <th>2</th>\n",
       "      <td>2022-01-01T23:58:01.000Z</td>\n",
       "      <td>1477428934312701955</td>\n",
       "      <td>1373375646651588611</td>\n",
       "      <td>1477428934312701955</td>\n",
       "      <td>everyone</td>\n",
       "      <td>While the world is celebrating the holidays wi...</td>\n",
       "      <td>en</td>\n",
       "      <td>4</td>\n",
       "      <td>0</td>\n",
       "      <td>4</td>\n",
       "      <td>...</td>\n",
       "      <td>1623</td>\n",
       "      <td>164380</td>\n",
       "      <td>1</td>\n",
       "      <td>https://t.co/5d2uUqGoOR</td>\n",
       "      <td>1373375646651588611</td>\n",
       "      <td>ANSEBAFREEDOM</td>\n",
       "      <td>https://pbs.twimg.com/profile_images/158329544...</td>\n",
       "      <td>2021-03-20T20:48:16.000Z</td>\n",
       "      <td>None</td>\n",
       "      <td>In Ethiopia🇪🇹 bullet to the head is mercy.The ...</td>\n",
       "    </tr>\n",
       "    <tr>\n",
       "      <th>3</th>\n",
       "      <td>2022-01-01T20:58:20.000Z</td>\n",
       "      <td>1477383714061623303</td>\n",
       "      <td>1373375646651588611</td>\n",
       "      <td>1477220181940318209</td>\n",
       "      <td>everyone</td>\n",
       "      <td>@TsenatSaba @seleshi_b_a @AbiyAhmedAli Ethiopi...</td>\n",
       "      <td>cy</td>\n",
       "      <td>2</td>\n",
       "      <td>1</td>\n",
       "      <td>2</td>\n",
       "      <td>...</td>\n",
       "      <td>1623</td>\n",
       "      <td>164380</td>\n",
       "      <td>1</td>\n",
       "      <td>https://t.co/5d2uUqGoOR</td>\n",
       "      <td>1373375646651588611</td>\n",
       "      <td>ANSEBAFREEDOM</td>\n",
       "      <td>https://pbs.twimg.com/profile_images/158329544...</td>\n",
       "      <td>2021-03-20T20:48:16.000Z</td>\n",
       "      <td>None</td>\n",
       "      <td>In Ethiopia🇪🇹 bullet to the head is mercy.The ...</td>\n",
       "    </tr>\n",
       "    <tr>\n",
       "      <th>4</th>\n",
       "      <td>2022-01-01T20:57:38.000Z</td>\n",
       "      <td>1477383539725328384</td>\n",
       "      <td>1373375646651588611</td>\n",
       "      <td>1477220181940318209</td>\n",
       "      <td>everyone</td>\n",
       "      <td>@seleshi_b_a @AbiyAhmedAli Mr copy paste, @Abi...</td>\n",
       "      <td>en</td>\n",
       "      <td>3</td>\n",
       "      <td>0</td>\n",
       "      <td>2</td>\n",
       "      <td>...</td>\n",
       "      <td>1623</td>\n",
       "      <td>164380</td>\n",
       "      <td>1</td>\n",
       "      <td>https://t.co/5d2uUqGoOR</td>\n",
       "      <td>1373375646651588611</td>\n",
       "      <td>ANSEBAFREEDOM</td>\n",
       "      <td>https://pbs.twimg.com/profile_images/158329544...</td>\n",
       "      <td>2021-03-20T20:48:16.000Z</td>\n",
       "      <td>None</td>\n",
       "      <td>In Ethiopia🇪🇹 bullet to the head is mercy.The ...</td>\n",
       "    </tr>\n",
       "  </tbody>\n",
       "</table>\n",
       "<p>5 rows × 26 columns</p>\n",
       "</div>"
      ],
      "text/plain": [
       "                 created_at                   id            author_id  \\\n",
       "0  2022-01-01T23:59:49.000Z  1477429383606456320  1373375646651588611   \n",
       "1  2022-01-01T23:59:32.000Z  1477429315906199559  1373375646651588611   \n",
       "2  2022-01-01T23:58:01.000Z  1477428934312701955  1373375646651588611   \n",
       "3  2022-01-01T20:58:20.000Z  1477383714061623303  1373375646651588611   \n",
       "4  2022-01-01T20:57:38.000Z  1477383539725328384  1373375646651588611   \n",
       "\n",
       "       conversation_id reply_settings  \\\n",
       "0  1477429383606456320       everyone   \n",
       "1  1477429315906199559       everyone   \n",
       "2  1477428934312701955       everyone   \n",
       "3  1477220181940318209       everyone   \n",
       "4  1477220181940318209       everyone   \n",
       "\n",
       "                                                text lang  \\\n",
       "0  While the world is celebrating the holidays wi...   en   \n",
       "1  While the world is celebrating the holidays wi...   en   \n",
       "2  While the world is celebrating the holidays wi...   en   \n",
       "3  @TsenatSaba @seleshi_b_a @AbiyAhmedAli Ethiopi...   cy   \n",
       "4  @seleshi_b_a @AbiyAhmedAli Mr copy paste, @Abi...   en   \n",
       "\n",
       "   public_metrics.retweet_count  public_metrics.reply_count  \\\n",
       "0                             6                           0   \n",
       "1                             7                           0   \n",
       "2                             4                           0   \n",
       "3                             2                           1   \n",
       "4                             3                           0   \n",
       "\n",
       "   public_metrics.like_count  ...  user.public_metrics.following_count  \\\n",
       "0                          5  ...                                 1623   \n",
       "1                          5  ...                                 1623   \n",
       "2                          4  ...                                 1623   \n",
       "3                          2  ...                                 1623   \n",
       "4                          2  ...                                 1623   \n",
       "\n",
       "   user.public_metrics.tweet_count user.public_metrics.listed_count  \\\n",
       "0                           164380                                1   \n",
       "1                           164380                                1   \n",
       "2                           164380                                1   \n",
       "3                           164380                                1   \n",
       "4                           164380                                1   \n",
       "\n",
       "                  user.url              user.id  user.username  \\\n",
       "0  https://t.co/5d2uUqGoOR  1373375646651588611  ANSEBAFREEDOM   \n",
       "1  https://t.co/5d2uUqGoOR  1373375646651588611  ANSEBAFREEDOM   \n",
       "2  https://t.co/5d2uUqGoOR  1373375646651588611  ANSEBAFREEDOM   \n",
       "3  https://t.co/5d2uUqGoOR  1373375646651588611  ANSEBAFREEDOM   \n",
       "4  https://t.co/5d2uUqGoOR  1373375646651588611  ANSEBAFREEDOM   \n",
       "\n",
       "                              user.profile_image_url  \\\n",
       "0  https://pbs.twimg.com/profile_images/158329544...   \n",
       "1  https://pbs.twimg.com/profile_images/158329544...   \n",
       "2  https://pbs.twimg.com/profile_images/158329544...   \n",
       "3  https://pbs.twimg.com/profile_images/158329544...   \n",
       "4  https://pbs.twimg.com/profile_images/158329544...   \n",
       "\n",
       "            user.created_at  user.location  \\\n",
       "0  2021-03-20T20:48:16.000Z           None   \n",
       "1  2021-03-20T20:48:16.000Z           None   \n",
       "2  2021-03-20T20:48:16.000Z           None   \n",
       "3  2021-03-20T20:48:16.000Z           None   \n",
       "4  2021-03-20T20:48:16.000Z           None   \n",
       "\n",
       "                                    user.description  \n",
       "0  In Ethiopia🇪🇹 bullet to the head is mercy.The ...  \n",
       "1  In Ethiopia🇪🇹 bullet to the head is mercy.The ...  \n",
       "2  In Ethiopia🇪🇹 bullet to the head is mercy.The ...  \n",
       "3  In Ethiopia🇪🇹 bullet to the head is mercy.The ...  \n",
       "4  In Ethiopia🇪🇹 bullet to the head is mercy.The ...  \n",
       "\n",
       "[5 rows x 26 columns]"
      ]
     },
     "execution_count": 5,
     "metadata": {},
     "output_type": "execute_result"
    }
   ],
   "source": [
    "users.head()"
   ]
  },
  {
   "cell_type": "code",
   "execution_count": 6,
   "id": "f2fb58a2-b7be-4822-b39d-3b2c8d6729fd",
   "metadata": {
    "tags": []
   },
   "outputs": [
    {
     "data": {
      "text/plain": [
       "(2021938, 26)"
      ]
     },
     "execution_count": 6,
     "metadata": {},
     "output_type": "execute_result"
    }
   ],
   "source": [
    "users.shape"
   ]
  },
  {
   "cell_type": "code",
   "execution_count": 12,
   "id": "1fc282d5-5e78-40a2-99c0-c08f55f32477",
   "metadata": {
    "tags": []
   },
   "outputs": [
    {
     "data": {
      "text/plain": [
       "['created_at',\n",
       " 'id',\n",
       " 'author_id',\n",
       " 'conversation_id',\n",
       " 'reply_settings',\n",
       " 'text',\n",
       " 'lang',\n",
       " 'public_metrics.retweet_count',\n",
       " 'public_metrics.reply_count',\n",
       " 'public_metrics.like_count',\n",
       " 'public_metrics.quote_count',\n",
       " 'possibly_sensitive',\n",
       " 'referenced_tweets.id',\n",
       " 'referenced_tweets.type',\n",
       " 'in_reply_to_user_id',\n",
       " 'user.public_metrics.followers_count',\n",
       " 'user.public_metrics.following_count',\n",
       " 'user.public_metrics.tweet_count',\n",
       " 'user.public_metrics.listed_count',\n",
       " 'user.url',\n",
       " 'user.id',\n",
       " 'user.username',\n",
       " 'user.profile_image_url',\n",
       " 'user.created_at',\n",
       " 'user.location',\n",
       " 'user.description']"
      ]
     },
     "execution_count": 12,
     "metadata": {},
     "output_type": "execute_result"
    }
   ],
   "source": [
    "users.columns.to_list()"
   ]
  },
  {
   "cell_type": "code",
   "execution_count": 10,
   "id": "7e993072-da7a-41fe-b071-688efe0caf4c",
   "metadata": {
    "tags": []
   },
   "outputs": [
    {
     "data": {
      "text/plain": [
       "\"@SamanthaJPower, the phenomenal Author of 'America in the Age of Genocide' should rather expose #TPLF's  30+yrs of genocidal crimes than criticize #Ethiopia who is providing the required #MedicalCare &amp; #PrisonServices for detainees who've gone on #HungerStrikes. #EthiopiaPrevails https://t.co/aIgIQrd99s\""
      ]
     },
     "execution_count": 10,
     "metadata": {},
     "output_type": "execute_result"
    }
   ],
   "source": [
    "# Check the data\n",
    "users.iloc[2175790][\"rawContent\"]"
   ]
  },
  {
   "cell_type": "code",
   "execution_count": 11,
   "id": "6c064e05-9bdf-4b29-81a0-074fd7e58318",
   "metadata": {
    "tags": []
   },
   "outputs": [],
   "source": [
    "# Create DatetimeIndex and use it as index\n",
    "users[\"dt\"] = pd.DatetimeIndex(users[\"date\"])\n",
    "users = users.set_index(\"dt\")"
   ]
  },
  {
   "cell_type": "code",
   "execution_count": 12,
   "id": "68bb3984-e3a6-4f6d-aeb2-ff68a66fe4b6",
   "metadata": {
    "tags": []
   },
   "outputs": [],
   "source": [
    "usernames = users[\"url\"].str.split(\"/\").str[3]"
   ]
  },
  {
   "cell_type": "code",
   "execution_count": 14,
   "id": "d5cc94f0-430f-4e89-9d68-9bef7e9331d1",
   "metadata": {
    "tags": []
   },
   "outputs": [
    {
     "data": {
      "text/plain": [
       "128"
      ]
     },
     "execution_count": 14,
     "metadata": {},
     "output_type": "execute_result"
    }
   ],
   "source": [
    "len(usernames.unique())"
   ]
  },
  {
   "cell_type": "markdown",
   "id": "03301a3a-f0a6-45d2-ab33-aecdd1ed4a89",
   "metadata": {
    "tags": []
   },
   "source": [
    "## Hashtags"
   ]
  },
  {
   "cell_type": "code",
   "execution_count": 10,
   "id": "6398a8c9-00bc-4120-ab31-25cfadef2364",
   "metadata": {
    "tags": []
   },
   "outputs": [],
   "source": [
    "# Filepath \n",
    "fp = \"data/TweetSearch_2010.parquet\""
   ]
  },
  {
   "cell_type": "code",
   "execution_count": 11,
   "id": "92aba3b9-3ec1-4533-b67e-ae2a985ed697",
   "metadata": {
    "tags": []
   },
   "outputs": [],
   "source": [
    "tweets11 = pd.read_parquet(fp)"
   ]
  },
  {
   "cell_type": "code",
   "execution_count": 19,
   "id": "8ab72967-8c3f-40df-a923-277ba864ed65",
   "metadata": {
    "tags": []
   },
   "outputs": [
    {
     "data": {
      "text/plain": [
       "(1958, 25)"
      ]
     },
     "execution_count": 19,
     "metadata": {},
     "output_type": "execute_result"
    }
   ],
   "source": [
    "tweets11.shape"
   ]
  },
  {
   "cell_type": "code",
   "execution_count": 13,
   "id": "4e8018bf-f61a-445d-b1ce-411ca05788f9",
   "metadata": {
    "tags": []
   },
   "outputs": [
    {
     "data": {
      "text/html": [
       "<div>\n",
       "<style scoped>\n",
       "    .dataframe tbody tr th:only-of-type {\n",
       "        vertical-align: middle;\n",
       "    }\n",
       "\n",
       "    .dataframe tbody tr th {\n",
       "        vertical-align: top;\n",
       "    }\n",
       "\n",
       "    .dataframe thead th {\n",
       "        text-align: right;\n",
       "    }\n",
       "</style>\n",
       "<table border=\"1\" class=\"dataframe\">\n",
       "  <thead>\n",
       "    <tr style=\"text-align: right;\">\n",
       "      <th></th>\n",
       "      <th>created_at</th>\n",
       "      <th>id</th>\n",
       "      <th>author_id</th>\n",
       "      <th>conversation_id</th>\n",
       "      <th>reply_settings</th>\n",
       "      <th>text</th>\n",
       "      <th>lang</th>\n",
       "      <th>public_metrics.retweet_count</th>\n",
       "      <th>public_metrics.reply_count</th>\n",
       "      <th>public_metrics.like_count</th>\n",
       "      <th>...</th>\n",
       "      <th>user.public_metrics.following_count</th>\n",
       "      <th>user.public_metrics.tweet_count</th>\n",
       "      <th>user.public_metrics.listed_count</th>\n",
       "      <th>user.url</th>\n",
       "      <th>user.id</th>\n",
       "      <th>user.username</th>\n",
       "      <th>user.profile_image_url</th>\n",
       "      <th>user.created_at</th>\n",
       "      <th>user.location</th>\n",
       "      <th>user.description</th>\n",
       "    </tr>\n",
       "  </thead>\n",
       "  <tbody>\n",
       "  </tbody>\n",
       "</table>\n",
       "<p>0 rows × 25 columns</p>\n",
       "</div>"
      ],
      "text/plain": [
       "Empty DataFrame\n",
       "Columns: [created_at, id, author_id, conversation_id, reply_settings, text, lang, public_metrics.retweet_count, public_metrics.reply_count, public_metrics.like_count, public_metrics.quote_count, possibly_sensitive, referenced_tweets.id, referenced_tweets.type, user.public_metrics.followers_count, user.public_metrics.following_count, user.public_metrics.tweet_count, user.public_metrics.listed_count, user.url, user.id, user.username, user.profile_image_url, user.created_at, user.location, user.description]\n",
       "Index: []\n",
       "\n",
       "[0 rows x 25 columns]"
      ]
     },
     "execution_count": 15,
     "metadata": {},
     "output_type": "execute_result"
    }
   ],
   "source": [
    "tweets11.loc[tweets11[\"id\"] == \"61494507014864896\"]"
   ]
  },
  {
   "cell_type": "code",
   "execution_count": 19,
   "id": "82180318-f4ca-410c-8550-dbec44ba0965",
   "metadata": {
    "tags": []
   },
   "outputs": [
    {
     "name": "stdout",
     "output_type": "stream",
     "text": [
      "[]\n",
      "created_at\n",
      "id\n",
      "author_id\n",
      "conversation_id\n",
      "reply_settings\n",
      "text\n",
      "lang\n",
      "public_metrics.retweet_count\n",
      "public_metrics.reply_count\n",
      "public_metrics.like_count\n",
      "public_metrics.quote_count\n",
      "possibly_sensitive\n",
      "referenced_tweets.id\n",
      "referenced_tweets.type\n",
      "user.public_metrics.followers_count\n",
      "user.public_metrics.following_count\n",
      "user.public_metrics.tweet_count\n",
      "user.public_metrics.listed_count\n",
      "user.id\n",
      "user.username\n",
      "user.profile_image_url\n",
      "user.created_at\n",
      "user.location\n",
      "user.description\n"
     ]
    }
   ],
   "source": [
    "trump_tweets = tweets11.loc[tweets11[\"text\"].str.lower().str.contains(\"trump\")]\n",
    "#trump_tweets[\"text\"].to_list()"
   ]
  },
  {
   "cell_type": "code",
   "execution_count": null,
   "id": "ca2964c1-d69f-4640-a1f3-581c5dadc94e",
   "metadata": {
    "tags": []
   },
   "outputs": [
    {
     "data": {
      "text/plain": [
       "Index(['created_at', 'id', 'author_id', 'conversation_id', 'reply_settings',\n",
       "       'text', 'lang', 'public_metrics.retweet_count',\n",
       "       'public_metrics.reply_count', 'public_metrics.like_count',\n",
       "       'public_metrics.quote_count', 'possibly_sensitive',\n",
       "       'referenced_tweets.id', 'referenced_tweets.type',\n",
       "       'user.public_metrics.followers_count',\n",
       "       'user.public_metrics.following_count',\n",
       "       'user.public_metrics.tweet_count', 'user.public_metrics.listed_count',\n",
       "       'user.url', 'user.id', 'user.username', 'user.profile_image_url',\n",
       "       'user.created_at', 'user.location', 'user.description'],\n",
       "      dtype='object')"
      ]
     },
     "execution_count": 21,
     "metadata": {},
     "output_type": "execute_result"
    }
   ],
   "source": [
    "tweets11.columns"
   ]
  },
  {
   "cell_type": "code",
   "execution_count": 25,
   "id": "de751575-b76f-4574-9f0e-1433c3b16560",
   "metadata": {
    "tags": []
   },
   "outputs": [
    {
     "data": {
      "text/plain": [
       "['Treasures of the Nile by atouchoftwist on @Etsy http://etsy.me/eAyJzt #blue #nile #egypt enjoy this #treasury on #etsy',\n",
       " 'The #NILE Aint Just A River In France...huh? lol',\n",
       " \"Who wins? Prevacid VS. (Coffee + Tequila + Champagne + Ibuprofen)....here's a hint...not prevacid. #gerd\",\n",
       " 'Sloop over to progression and set your own sails... #heart #rate #nile',\n",
       " 'Procucts: http://www.bb-care.com/under-the-nile-grape-toy-reviews-2.html Under The Nile Grape Toy Reviews #Grape #Nile #Reviews']"
      ]
     },
     "execution_count": 25,
     "metadata": {},
     "output_type": "execute_result"
    }
   ],
   "source": [
    "tweets11.head()[\"text\"].to_list()"
   ]
  },
  {
   "cell_type": "code",
   "execution_count": 28,
   "id": "cdc21244-9a06-403a-ad92-81612c661ab0",
   "metadata": {
    "tags": []
   },
   "outputs": [
    {
     "data": {
      "text/html": [
       "<div>\n",
       "<style scoped>\n",
       "    .dataframe tbody tr th:only-of-type {\n",
       "        vertical-align: middle;\n",
       "    }\n",
       "\n",
       "    .dataframe tbody tr th {\n",
       "        vertical-align: top;\n",
       "    }\n",
       "\n",
       "    .dataframe thead th {\n",
       "        text-align: right;\n",
       "    }\n",
       "</style>\n",
       "<table border=\"1\" class=\"dataframe\">\n",
       "  <thead>\n",
       "    <tr style=\"text-align: right;\">\n",
       "      <th></th>\n",
       "      <th>created_at</th>\n",
       "      <th>id</th>\n",
       "      <th>author_id</th>\n",
       "      <th>conversation_id</th>\n",
       "      <th>reply_settings</th>\n",
       "      <th>text</th>\n",
       "      <th>lang</th>\n",
       "      <th>public_metrics.retweet_count</th>\n",
       "      <th>public_metrics.reply_count</th>\n",
       "      <th>public_metrics.like_count</th>\n",
       "      <th>...</th>\n",
       "      <th>user.public_metrics.followers_count</th>\n",
       "      <th>user.public_metrics.following_count</th>\n",
       "      <th>user.public_metrics.tweet_count</th>\n",
       "      <th>user.public_metrics.listed_count</th>\n",
       "      <th>user.id</th>\n",
       "      <th>user.username</th>\n",
       "      <th>user.profile_image_url</th>\n",
       "      <th>user.created_at</th>\n",
       "      <th>user.location</th>\n",
       "      <th>user.description</th>\n",
       "    </tr>\n",
       "  </thead>\n",
       "  <tbody>\n",
       "    <tr>\n",
       "      <th>0</th>\n",
       "      <td>2011-01-01T23:27:35.000Z</td>\n",
       "      <td>21346828930785280</td>\n",
       "      <td>189332313</td>\n",
       "      <td>21346828930785280</td>\n",
       "      <td>everyone</td>\n",
       "      <td>Treasures of the Nile by atouchoftwist on @Ets...</td>\n",
       "      <td>en</td>\n",
       "      <td>0</td>\n",
       "      <td>0</td>\n",
       "      <td>0</td>\n",
       "      <td>...</td>\n",
       "      <td>1069</td>\n",
       "      <td>1464</td>\n",
       "      <td>238</td>\n",
       "      <td>47</td>\n",
       "      <td>189332313</td>\n",
       "      <td>atouchoftwist</td>\n",
       "      <td>https://pbs.twimg.com/profile_images/112130699...</td>\n",
       "      <td>2010-09-11T00:12:57.000Z</td>\n",
       "      <td>Florida</td>\n",
       "      <td>A Touch of Twist is the Etsy shop for some of ...</td>\n",
       "    </tr>\n",
       "    <tr>\n",
       "      <th>1</th>\n",
       "      <td>2011-01-01T23:19:09.000Z</td>\n",
       "      <td>21344707376320512</td>\n",
       "      <td>138931028</td>\n",
       "      <td>21344707376320512</td>\n",
       "      <td>everyone</td>\n",
       "      <td>The #NILE Aint Just A River In France...huh? lol</td>\n",
       "      <td>en</td>\n",
       "      <td>0</td>\n",
       "      <td>0</td>\n",
       "      <td>0</td>\n",
       "      <td>...</td>\n",
       "      <td>1720</td>\n",
       "      <td>900</td>\n",
       "      <td>119214</td>\n",
       "      <td>5</td>\n",
       "      <td>138931028</td>\n",
       "      <td>rukidd_</td>\n",
       "      <td>https://pbs.twimg.com/profile_images/159703526...</td>\n",
       "      <td>2010-05-01T02:00:39.000Z</td>\n",
       "      <td>Brazil</td>\n",
       "      <td>Promise To Always Give You Me, The Real Me So ...</td>\n",
       "    </tr>\n",
       "    <tr>\n",
       "      <th>2</th>\n",
       "      <td>2011-01-01T19:55:16.000Z</td>\n",
       "      <td>21293396903596033</td>\n",
       "      <td>141079255</td>\n",
       "      <td>21293396903596033</td>\n",
       "      <td>everyone</td>\n",
       "      <td>Who wins? Prevacid VS. (Coffee + Tequila + Cha...</td>\n",
       "      <td>en</td>\n",
       "      <td>0</td>\n",
       "      <td>0</td>\n",
       "      <td>0</td>\n",
       "      <td>...</td>\n",
       "      <td>218</td>\n",
       "      <td>445</td>\n",
       "      <td>652</td>\n",
       "      <td>10</td>\n",
       "      <td>141079255</td>\n",
       "      <td>NoLimitDoc</td>\n",
       "      <td>https://pbs.twimg.com/profile_images/604065133...</td>\n",
       "      <td>2010-05-07T04:02:58.000Z</td>\n",
       "      <td>Las Vegas</td>\n",
       "      <td>Father, Husband, Physician and Poker Player.</td>\n",
       "    </tr>\n",
       "    <tr>\n",
       "      <th>3</th>\n",
       "      <td>2011-01-01T15:57:56.000Z</td>\n",
       "      <td>21233673399435264</td>\n",
       "      <td>23566545</td>\n",
       "      <td>21233673399435264</td>\n",
       "      <td>everyone</td>\n",
       "      <td>Sloop over to progression and set your own sai...</td>\n",
       "      <td>en</td>\n",
       "      <td>0</td>\n",
       "      <td>0</td>\n",
       "      <td>0</td>\n",
       "      <td>...</td>\n",
       "      <td>65</td>\n",
       "      <td>83</td>\n",
       "      <td>3148</td>\n",
       "      <td>2</td>\n",
       "      <td>23566545</td>\n",
       "      <td>justroxonmute</td>\n",
       "      <td>https://pbs.twimg.com/profile_images/452360943...</td>\n",
       "      <td>2009-03-10T07:03:51.000Z</td>\n",
       "      <td>Imagination land of no limits</td>\n",
       "      <td>Automotive-Photography-Music-Gym-Gaming… in a ...</td>\n",
       "    </tr>\n",
       "    <tr>\n",
       "      <th>4</th>\n",
       "      <td>2011-01-01T02:44:01.000Z</td>\n",
       "      <td>21033875283124225</td>\n",
       "      <td>230475530</td>\n",
       "      <td>21033875283124225</td>\n",
       "      <td>everyone</td>\n",
       "      <td>Procucts: http://www.bb-care.com/under-the-nil...</td>\n",
       "      <td>en</td>\n",
       "      <td>0</td>\n",
       "      <td>0</td>\n",
       "      <td>0</td>\n",
       "      <td>...</td>\n",
       "      <td>3</td>\n",
       "      <td>0</td>\n",
       "      <td>44544</td>\n",
       "      <td>0</td>\n",
       "      <td>230475530</td>\n",
       "      <td>bbcarecom</td>\n",
       "      <td>https://pbs.twimg.com/profile_images/119904971...</td>\n",
       "      <td>2010-12-25T16:18:06.000Z</td>\n",
       "      <td>None</td>\n",
       "      <td>None</td>\n",
       "    </tr>\n",
       "  </tbody>\n",
       "</table>\n",
       "<p>5 rows × 24 columns</p>\n",
       "</div>"
      ],
      "text/plain": [
       "                 created_at                 id  author_id    conversation_id  \\\n",
       "0  2011-01-01T23:27:35.000Z  21346828930785280  189332313  21346828930785280   \n",
       "1  2011-01-01T23:19:09.000Z  21344707376320512  138931028  21344707376320512   \n",
       "2  2011-01-01T19:55:16.000Z  21293396903596033  141079255  21293396903596033   \n",
       "3  2011-01-01T15:57:56.000Z  21233673399435264   23566545  21233673399435264   \n",
       "4  2011-01-01T02:44:01.000Z  21033875283124225  230475530  21033875283124225   \n",
       "\n",
       "  reply_settings                                               text lang  \\\n",
       "0       everyone  Treasures of the Nile by atouchoftwist on @Ets...   en   \n",
       "1       everyone   The #NILE Aint Just A River In France...huh? lol   en   \n",
       "2       everyone  Who wins? Prevacid VS. (Coffee + Tequila + Cha...   en   \n",
       "3       everyone  Sloop over to progression and set your own sai...   en   \n",
       "4       everyone  Procucts: http://www.bb-care.com/under-the-nil...   en   \n",
       "\n",
       "   public_metrics.retweet_count  public_metrics.reply_count  \\\n",
       "0                             0                           0   \n",
       "1                             0                           0   \n",
       "2                             0                           0   \n",
       "3                             0                           0   \n",
       "4                             0                           0   \n",
       "\n",
       "   public_metrics.like_count  ...  user.public_metrics.followers_count  \\\n",
       "0                          0  ...                                 1069   \n",
       "1                          0  ...                                 1720   \n",
       "2                          0  ...                                  218   \n",
       "3                          0  ...                                   65   \n",
       "4                          0  ...                                    3   \n",
       "\n",
       "   user.public_metrics.following_count  user.public_metrics.tweet_count  \\\n",
       "0                                 1464                              238   \n",
       "1                                  900                           119214   \n",
       "2                                  445                              652   \n",
       "3                                   83                             3148   \n",
       "4                                    0                            44544   \n",
       "\n",
       "  user.public_metrics.listed_count    user.id  user.username  \\\n",
       "0                               47  189332313  atouchoftwist   \n",
       "1                                5  138931028        rukidd_   \n",
       "2                               10  141079255     NoLimitDoc   \n",
       "3                                2   23566545  justroxonmute   \n",
       "4                                0  230475530      bbcarecom   \n",
       "\n",
       "                              user.profile_image_url  \\\n",
       "0  https://pbs.twimg.com/profile_images/112130699...   \n",
       "1  https://pbs.twimg.com/profile_images/159703526...   \n",
       "2  https://pbs.twimg.com/profile_images/604065133...   \n",
       "3  https://pbs.twimg.com/profile_images/452360943...   \n",
       "4  https://pbs.twimg.com/profile_images/119904971...   \n",
       "\n",
       "            user.created_at                  user.location  \\\n",
       "0  2010-09-11T00:12:57.000Z                        Florida   \n",
       "1  2010-05-01T02:00:39.000Z                         Brazil   \n",
       "2  2010-05-07T04:02:58.000Z                      Las Vegas   \n",
       "3  2009-03-10T07:03:51.000Z  Imagination land of no limits   \n",
       "4  2010-12-25T16:18:06.000Z                           None   \n",
       "\n",
       "                                    user.description  \n",
       "0  A Touch of Twist is the Etsy shop for some of ...  \n",
       "1  Promise To Always Give You Me, The Real Me So ...  \n",
       "2       Father, Husband, Physician and Poker Player.  \n",
       "3  Automotive-Photography-Music-Gym-Gaming… in a ...  \n",
       "4                                               None  \n",
       "\n",
       "[5 rows x 24 columns]"
      ]
     },
     "execution_count": 28,
     "metadata": {},
     "output_type": "execute_result"
    }
   ],
   "source": [
    "tweets11.head()"
   ]
  },
  {
   "cell_type": "code",
   "execution_count": 43,
   "id": "6d4d43dd-585e-456c-a94c-226f3462500c",
   "metadata": {
    "tags": []
   },
   "outputs": [
    {
     "data": {
      "text/html": [
       "<div>\n",
       "<style scoped>\n",
       "    .dataframe tbody tr th:only-of-type {\n",
       "        vertical-align: middle;\n",
       "    }\n",
       "\n",
       "    .dataframe tbody tr th {\n",
       "        vertical-align: top;\n",
       "    }\n",
       "\n",
       "    .dataframe thead th {\n",
       "        text-align: right;\n",
       "    }\n",
       "</style>\n",
       "<table border=\"1\" class=\"dataframe\">\n",
       "  <thead>\n",
       "    <tr style=\"text-align: right;\">\n",
       "      <th></th>\n",
       "      <th>lang</th>\n",
       "    </tr>\n",
       "  </thead>\n",
       "  <tbody>\n",
       "    <tr>\n",
       "      <th>0</th>\n",
       "      <td>en</td>\n",
       "    </tr>\n",
       "    <tr>\n",
       "      <th>1</th>\n",
       "      <td>en</td>\n",
       "    </tr>\n",
       "    <tr>\n",
       "      <th>2</th>\n",
       "      <td>en</td>\n",
       "    </tr>\n",
       "    <tr>\n",
       "      <th>3</th>\n",
       "      <td>en</td>\n",
       "    </tr>\n",
       "    <tr>\n",
       "      <th>4</th>\n",
       "      <td>en</td>\n",
       "    </tr>\n",
       "  </tbody>\n",
       "</table>\n",
       "</div>"
      ],
      "text/plain": [
       "  lang\n",
       "0   en\n",
       "1   en\n",
       "2   en\n",
       "3   en\n",
       "4   en"
      ]
     },
     "execution_count": 43,
     "metadata": {},
     "output_type": "execute_result"
    }
   ],
   "source": [
    "selection = tweets11[[\"lang\"]]\n",
    "selection.head()"
   ]
  },
  {
   "cell_type": "code",
   "execution_count": 44,
   "id": "3ba8746c-b734-4cec-bba6-97e875e0973d",
   "metadata": {
    "tags": []
   },
   "outputs": [
    {
     "data": {
      "text/plain": [
       "0    en\n",
       "1    en\n",
       "2    en\n",
       "3    en\n",
       "4    en\n",
       "Name: lang, dtype: object"
      ]
     },
     "execution_count": 44,
     "metadata": {},
     "output_type": "execute_result"
    }
   ],
   "source": [
    "selection[\"lang\"].head()"
   ]
  },
  {
   "cell_type": "code",
   "execution_count": 46,
   "id": "536a967e-a805-4a9d-b422-e3fc937000f1",
   "metadata": {
    "tags": []
   },
   "outputs": [
    {
     "data": {
      "text/plain": [
       "3313"
      ]
     },
     "execution_count": 46,
     "metadata": {},
     "output_type": "execute_result"
    }
   ],
   "source": [
    "len(tweets11[\"author_id\"].unique())"
   ]
  },
  {
   "cell_type": "code",
   "execution_count": null,
   "id": "bfad2b53-7f1f-4e0e-9c20-84ba9f061340",
   "metadata": {},
   "outputs": [],
   "source": []
  }
 ],
 "metadata": {
  "kernelspec": {
   "display_name": "Python 3 (ipykernel)",
   "language": "python",
   "name": "python3"
  },
  "language_info": {
   "codemirror_mode": {
    "name": "ipython",
    "version": 3
   },
   "file_extension": ".py",
   "mimetype": "text/x-python",
   "name": "python",
   "nbconvert_exporter": "python",
   "pygments_lexer": "ipython3",
   "version": "3.11.1"
  },
  "vscode": {
   "interpreter": {
    "hash": "ef415a92fb389a7f0d20fe1741d51b3d3f14f3afc6e8a10115a43751db90a417"
   }
  }
 },
 "nbformat": 4,
 "nbformat_minor": 5
}
